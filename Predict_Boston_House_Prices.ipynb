{
 "cells": [
  {
   "cell_type": "markdown",
   "metadata": {
    "id": "_b3Ne9j26NAg"
   },
   "source": [
    "# Welcome to my First Kernel !\n"
   ]
  },
  {
   "cell_type": "markdown",
   "metadata": {
    "id": "CG51qOa-6NAj"
   },
   "source": [
    "### table of contents :\n",
    "\n",
    "- **Introduction**:\n",
    "  - About Boston dataset : \n",
    "    - Dependent variable : median_house_value\n",
    "    - Independent variables : \n",
    "        - Numerical variables : housing_median_age, total_rooms, total_bedrooms ,population, households, median_income ,longitude and latitude\n",
    "        - Categorial variables : ocean_proximity\n",
    "- **Discovering & understanding the data** :\n",
    "  - data's shape and type\n",
    "  - variable's distributions\n",
    "  - Finding missing values\n",
    "  - Correlations between independent and dependent variables\n",
    "- **Features Engineering** :\n",
    "  - Adding new variables\n",
    "  - Handling missing values\n",
    "  - Handling categorial variables\n",
    "  - Handling noisy data \n",
    "- **Preprocessing** :\n",
    "  - Splitting data into training and validation set\n",
    "  - Creating some useful functions in order to use them in Modelling\n",
    "  - Using Pipelines\n",
    "- **Modelling** :\n",
    "  - The Algorithms that i used in this notebook, plus a brief description of each one\n",
    "      - Linear Models : LinearRegression ,Laso, Ridge, ElasticNet\n",
    "      - Support Vector Machine Regressor\n",
    "      - K-Nearest Neighbors Regressor\n",
    "      - Decision Tree Regressor\n",
    "      - Ensemble methods : RandomForestRegressor and AdaBoost\n",
    "  - The Metrics that i used to quantify the models' performance, plus a brief description of each one \n",
    "      - MAE\n",
    "      - MSE\n",
    "      - RMSE\n",
    "      - R2 \n",
    "  \n",
    "  \n"
   ]
  },
  {
   "cell_type": "markdown",
   "metadata": {
    "id": "UnRHhhL76NAn"
   },
   "source": [
    "-  \"Sorry if i made any mistakes. English is not my native language\""
   ]
  },
  {
   "cell_type": "code",
   "execution_count": 164,
   "metadata": {
    "id": "6LYs2Xxo6NAq"
   },
   "outputs": [],
   "source": [
    "#Load the libraries\n",
    "import pandas as pd\n",
    "import numpy as np\n",
    "import seaborn as sns\n",
    "import matplotlib.pyplot as plt\n",
    "%matplotlib inline\n",
    "\n",
    "\n",
    "np.random.seed(0)\n",
    "\n",
    "import warnings\n",
    "warnings.filterwarnings('ignore')\n",
    "\n",
    "pd.set_option('display.max_row',111)\n",
    "pd.set_option('display.max_column',111)"
   ]
  },
  {
   "cell_type": "code",
   "execution_count": 147,
   "metadata": {
    "id": "C8VVt9ro6NA7"
   },
   "outputs": [],
   "source": [
    "#Importing the data\n",
    "boston = pd.read_table('housing_data.txt', sep=',')"
   ]
  },
  {
   "cell_type": "markdown",
   "metadata": {
    "id": "rilBHlYc6NBI"
   },
   "source": [
    "### Let's first Look at the data"
   ]
  },
  {
   "cell_type": "code",
   "execution_count": 148,
   "metadata": {
    "colab": {
     "base_uri": "https://localhost:8080/",
     "height": 224
    },
    "id": "p_h4JsoF6NBJ",
    "outputId": "12e62103-0733-4790-b4aa-0ee5031128d3"
   },
   "outputs": [
    {
     "data": {
      "text/html": [
       "<div>\n",
       "<style scoped>\n",
       "    .dataframe tbody tr th:only-of-type {\n",
       "        vertical-align: middle;\n",
       "    }\n",
       "\n",
       "    .dataframe tbody tr th {\n",
       "        vertical-align: top;\n",
       "    }\n",
       "\n",
       "    .dataframe thead th {\n",
       "        text-align: right;\n",
       "    }\n",
       "</style>\n",
       "<table border=\"1\" class=\"dataframe\">\n",
       "  <thead>\n",
       "    <tr style=\"text-align: right;\">\n",
       "      <th></th>\n",
       "      <th>longitude</th>\n",
       "      <th>latitude</th>\n",
       "      <th>housing_median_age</th>\n",
       "      <th>total_rooms</th>\n",
       "      <th>total_bedrooms</th>\n",
       "      <th>population</th>\n",
       "      <th>households</th>\n",
       "      <th>median_income</th>\n",
       "      <th>median_house_value</th>\n",
       "      <th>ocean_proximity</th>\n",
       "    </tr>\n",
       "  </thead>\n",
       "  <tbody>\n",
       "    <tr>\n",
       "      <th>0</th>\n",
       "      <td>-122.23</td>\n",
       "      <td>37.88</td>\n",
       "      <td>41.0</td>\n",
       "      <td>880.0</td>\n",
       "      <td>129.0</td>\n",
       "      <td>322.0</td>\n",
       "      <td>126.0</td>\n",
       "      <td>8.3252</td>\n",
       "      <td>452600.0</td>\n",
       "      <td>NEAR BAY</td>\n",
       "    </tr>\n",
       "    <tr>\n",
       "      <th>1</th>\n",
       "      <td>-122.22</td>\n",
       "      <td>37.86</td>\n",
       "      <td>21.0</td>\n",
       "      <td>7099.0</td>\n",
       "      <td>1106.0</td>\n",
       "      <td>2401.0</td>\n",
       "      <td>1138.0</td>\n",
       "      <td>8.3014</td>\n",
       "      <td>358500.0</td>\n",
       "      <td>NEAR BAY</td>\n",
       "    </tr>\n",
       "    <tr>\n",
       "      <th>2</th>\n",
       "      <td>-122.24</td>\n",
       "      <td>37.85</td>\n",
       "      <td>52.0</td>\n",
       "      <td>1467.0</td>\n",
       "      <td>190.0</td>\n",
       "      <td>496.0</td>\n",
       "      <td>177.0</td>\n",
       "      <td>7.2574</td>\n",
       "      <td>352100.0</td>\n",
       "      <td>NEAR BAY</td>\n",
       "    </tr>\n",
       "    <tr>\n",
       "      <th>3</th>\n",
       "      <td>-122.25</td>\n",
       "      <td>37.85</td>\n",
       "      <td>52.0</td>\n",
       "      <td>1274.0</td>\n",
       "      <td>235.0</td>\n",
       "      <td>558.0</td>\n",
       "      <td>219.0</td>\n",
       "      <td>5.6431</td>\n",
       "      <td>341300.0</td>\n",
       "      <td>NEAR BAY</td>\n",
       "    </tr>\n",
       "    <tr>\n",
       "      <th>4</th>\n",
       "      <td>-122.25</td>\n",
       "      <td>37.85</td>\n",
       "      <td>52.0</td>\n",
       "      <td>1627.0</td>\n",
       "      <td>280.0</td>\n",
       "      <td>565.0</td>\n",
       "      <td>259.0</td>\n",
       "      <td>3.8462</td>\n",
       "      <td>342200.0</td>\n",
       "      <td>NEAR BAY</td>\n",
       "    </tr>\n",
       "  </tbody>\n",
       "</table>\n",
       "</div>"
      ],
      "text/plain": [
       "   longitude  latitude  housing_median_age  total_rooms  total_bedrooms  \\\n",
       "0    -122.23     37.88                41.0        880.0           129.0   \n",
       "1    -122.22     37.86                21.0       7099.0          1106.0   \n",
       "2    -122.24     37.85                52.0       1467.0           190.0   \n",
       "3    -122.25     37.85                52.0       1274.0           235.0   \n",
       "4    -122.25     37.85                52.0       1627.0           280.0   \n",
       "\n",
       "   population  households  median_income  median_house_value ocean_proximity  \n",
       "0       322.0       126.0         8.3252            452600.0        NEAR BAY  \n",
       "1      2401.0      1138.0         8.3014            358500.0        NEAR BAY  \n",
       "2       496.0       177.0         7.2574            352100.0        NEAR BAY  \n",
       "3       558.0       219.0         5.6431            341300.0        NEAR BAY  \n",
       "4       565.0       259.0         3.8462            342200.0        NEAR BAY  "
      ]
     },
     "execution_count": 148,
     "metadata": {},
     "output_type": "execute_result"
    }
   ],
   "source": [
    "#Peek at the Data\n",
    "boston.head()"
   ]
  },
  {
   "cell_type": "code",
   "execution_count": 149,
   "metadata": {
    "colab": {
     "base_uri": "https://localhost:8080/"
    },
    "id": "pn2nIm2r6NBX",
    "outputId": "6080adff-a8fa-48b1-b795-b62d7412d25b"
   },
   "outputs": [
    {
     "data": {
      "text/plain": [
       "(20640, 10)"
      ]
     },
     "execution_count": 149,
     "metadata": {},
     "output_type": "execute_result"
    }
   ],
   "source": [
    "#the shape of data\n",
    "boston.shape"
   ]
  },
  {
   "cell_type": "code",
   "execution_count": 161,
   "metadata": {
    "colab": {
     "base_uri": "https://localhost:8080/"
    },
    "id": "d0WV813X6NBi",
    "outputId": "005807c2-202b-485e-a09f-632eb6294a3f"
   },
   "outputs": [
    {
     "name": "stdout",
     "output_type": "stream",
     "text": [
      "<class 'pandas.core.frame.DataFrame'>\n",
      "Int64Index: 19675 entries, 0 to 20639\n",
      "Data columns (total 10 columns):\n",
      " #   Column              Non-Null Count  Dtype  \n",
      "---  ------              --------------  -----  \n",
      " 0   longitude           19675 non-null  float64\n",
      " 1   latitude            19675 non-null  float64\n",
      " 2   housing_median_age  19675 non-null  float64\n",
      " 3   total_rooms         19675 non-null  float64\n",
      " 4   total_bedrooms      19475 non-null  float64\n",
      " 5   population          19675 non-null  float64\n",
      " 6   households          19675 non-null  float64\n",
      " 7   median_income       19675 non-null  float64\n",
      " 8   median_house_value  19675 non-null  float64\n",
      " 9   ocean_proximity     19675 non-null  object \n",
      "dtypes: float64(9), object(1)\n",
      "memory usage: 1.7+ MB\n"
     ]
    }
   ],
   "source": [
    "#getting a quick description of the data, in particular the number of non-null, and each attribute’s type \n",
    "boston.info()"
   ]
  },
  {
   "cell_type": "markdown",
   "metadata": {
    "id": "65wE70NB6NBp"
   },
   "source": [
    "- The total_bedrooms variable have missing values \n"
   ]
  },
  {
   "cell_type": "code",
   "execution_count": 151,
   "metadata": {
    "colab": {
     "base_uri": "https://localhost:8080/",
     "height": 317
    },
    "id": "OcQR28zR6NBq",
    "outputId": "873076a8-5ab4-42dc-d920-f0ba3557ad8e"
   },
   "outputs": [
    {
     "data": {
      "text/html": [
       "<div>\n",
       "<style scoped>\n",
       "    .dataframe tbody tr th:only-of-type {\n",
       "        vertical-align: middle;\n",
       "    }\n",
       "\n",
       "    .dataframe tbody tr th {\n",
       "        vertical-align: top;\n",
       "    }\n",
       "\n",
       "    .dataframe thead th {\n",
       "        text-align: right;\n",
       "    }\n",
       "</style>\n",
       "<table border=\"1\" class=\"dataframe\">\n",
       "  <thead>\n",
       "    <tr style=\"text-align: right;\">\n",
       "      <th></th>\n",
       "      <th>longitude</th>\n",
       "      <th>latitude</th>\n",
       "      <th>housing_median_age</th>\n",
       "      <th>total_rooms</th>\n",
       "      <th>total_bedrooms</th>\n",
       "      <th>population</th>\n",
       "      <th>households</th>\n",
       "      <th>median_income</th>\n",
       "      <th>median_house_value</th>\n",
       "    </tr>\n",
       "  </thead>\n",
       "  <tbody>\n",
       "    <tr>\n",
       "      <th>count</th>\n",
       "      <td>20640.000000</td>\n",
       "      <td>20640.000000</td>\n",
       "      <td>20640.000000</td>\n",
       "      <td>20640.000000</td>\n",
       "      <td>20433.000000</td>\n",
       "      <td>20640.000000</td>\n",
       "      <td>20640.000000</td>\n",
       "      <td>20640.000000</td>\n",
       "      <td>20640.000000</td>\n",
       "    </tr>\n",
       "    <tr>\n",
       "      <th>mean</th>\n",
       "      <td>-119.569704</td>\n",
       "      <td>35.631861</td>\n",
       "      <td>28.639486</td>\n",
       "      <td>2635.763081</td>\n",
       "      <td>537.870553</td>\n",
       "      <td>1425.476744</td>\n",
       "      <td>499.539680</td>\n",
       "      <td>3.870671</td>\n",
       "      <td>206855.816909</td>\n",
       "    </tr>\n",
       "    <tr>\n",
       "      <th>std</th>\n",
       "      <td>2.003532</td>\n",
       "      <td>2.135952</td>\n",
       "      <td>12.585558</td>\n",
       "      <td>2181.615252</td>\n",
       "      <td>421.385070</td>\n",
       "      <td>1132.462122</td>\n",
       "      <td>382.329753</td>\n",
       "      <td>1.899822</td>\n",
       "      <td>115395.615874</td>\n",
       "    </tr>\n",
       "    <tr>\n",
       "      <th>min</th>\n",
       "      <td>-124.350000</td>\n",
       "      <td>32.540000</td>\n",
       "      <td>1.000000</td>\n",
       "      <td>2.000000</td>\n",
       "      <td>1.000000</td>\n",
       "      <td>3.000000</td>\n",
       "      <td>1.000000</td>\n",
       "      <td>0.499900</td>\n",
       "      <td>14999.000000</td>\n",
       "    </tr>\n",
       "    <tr>\n",
       "      <th>25%</th>\n",
       "      <td>-121.800000</td>\n",
       "      <td>33.930000</td>\n",
       "      <td>18.000000</td>\n",
       "      <td>1447.750000</td>\n",
       "      <td>296.000000</td>\n",
       "      <td>787.000000</td>\n",
       "      <td>280.000000</td>\n",
       "      <td>2.563400</td>\n",
       "      <td>119600.000000</td>\n",
       "    </tr>\n",
       "    <tr>\n",
       "      <th>50%</th>\n",
       "      <td>-118.490000</td>\n",
       "      <td>34.260000</td>\n",
       "      <td>29.000000</td>\n",
       "      <td>2127.000000</td>\n",
       "      <td>435.000000</td>\n",
       "      <td>1166.000000</td>\n",
       "      <td>409.000000</td>\n",
       "      <td>3.534800</td>\n",
       "      <td>179700.000000</td>\n",
       "    </tr>\n",
       "    <tr>\n",
       "      <th>75%</th>\n",
       "      <td>-118.010000</td>\n",
       "      <td>37.710000</td>\n",
       "      <td>37.000000</td>\n",
       "      <td>3148.000000</td>\n",
       "      <td>647.000000</td>\n",
       "      <td>1725.000000</td>\n",
       "      <td>605.000000</td>\n",
       "      <td>4.743250</td>\n",
       "      <td>264725.000000</td>\n",
       "    </tr>\n",
       "    <tr>\n",
       "      <th>max</th>\n",
       "      <td>-114.310000</td>\n",
       "      <td>41.950000</td>\n",
       "      <td>52.000000</td>\n",
       "      <td>39320.000000</td>\n",
       "      <td>6445.000000</td>\n",
       "      <td>35682.000000</td>\n",
       "      <td>6082.000000</td>\n",
       "      <td>15.000100</td>\n",
       "      <td>500001.000000</td>\n",
       "    </tr>\n",
       "  </tbody>\n",
       "</table>\n",
       "</div>"
      ],
      "text/plain": [
       "          longitude      latitude  housing_median_age   total_rooms  \\\n",
       "count  20640.000000  20640.000000        20640.000000  20640.000000   \n",
       "mean    -119.569704     35.631861           28.639486   2635.763081   \n",
       "std        2.003532      2.135952           12.585558   2181.615252   \n",
       "min     -124.350000     32.540000            1.000000      2.000000   \n",
       "25%     -121.800000     33.930000           18.000000   1447.750000   \n",
       "50%     -118.490000     34.260000           29.000000   2127.000000   \n",
       "75%     -118.010000     37.710000           37.000000   3148.000000   \n",
       "max     -114.310000     41.950000           52.000000  39320.000000   \n",
       "\n",
       "       total_bedrooms    population    households  median_income  \\\n",
       "count    20433.000000  20640.000000  20640.000000   20640.000000   \n",
       "mean       537.870553   1425.476744    499.539680       3.870671   \n",
       "std        421.385070   1132.462122    382.329753       1.899822   \n",
       "min          1.000000      3.000000      1.000000       0.499900   \n",
       "25%        296.000000    787.000000    280.000000       2.563400   \n",
       "50%        435.000000   1166.000000    409.000000       3.534800   \n",
       "75%        647.000000   1725.000000    605.000000       4.743250   \n",
       "max       6445.000000  35682.000000   6082.000000      15.000100   \n",
       "\n",
       "       median_house_value  \n",
       "count        20640.000000  \n",
       "mean        206855.816909  \n",
       "std         115395.615874  \n",
       "min          14999.000000  \n",
       "25%         119600.000000  \n",
       "50%         179700.000000  \n",
       "75%         264725.000000  \n",
       "max         500001.000000  "
      ]
     },
     "execution_count": 151,
     "metadata": {},
     "output_type": "execute_result"
    }
   ],
   "source": [
    "#The describe() method shows a summary of the numerical attributes\n",
    "boston.describe()"
   ]
  },
  {
   "cell_type": "code",
   "execution_count": 152,
   "metadata": {
    "colab": {
     "base_uri": "https://localhost:8080/"
    },
    "id": "MPxb_Jsy6NBv",
    "outputId": "eace5c20-e222-433a-94af-9a526e405cd0"
   },
   "outputs": [
    {
     "data": {
      "text/plain": [
       "<1H OCEAN     9136\n",
       "INLAND        6551\n",
       "NEAR OCEAN    2658\n",
       "NEAR BAY      2290\n",
       "ISLAND           5\n",
       "Name: ocean_proximity, dtype: int64"
      ]
     },
     "execution_count": 152,
     "metadata": {},
     "output_type": "execute_result"
    }
   ],
   "source": [
    "#Class Distribution of the categorial variable \n",
    "boston['ocean_proximity'].value_counts()"
   ]
  },
  {
   "cell_type": "code",
   "execution_count": 153,
   "metadata": {
    "colab": {
     "base_uri": "https://localhost:8080/"
    },
    "id": "jUinpgo_6NB0",
    "outputId": "73dfef04-461d-46fb-9e5e-9ce1048c5c49"
   },
   "outputs": [
    {
     "data": {
      "text/plain": [
       "longitude               0\n",
       "latitude                0\n",
       "housing_median_age      0\n",
       "total_rooms             0\n",
       "total_bedrooms        207\n",
       "population              0\n",
       "households              0\n",
       "median_income           0\n",
       "median_house_value      0\n",
       "ocean_proximity         0\n",
       "dtype: int64"
      ]
     },
     "execution_count": 153,
     "metadata": {},
     "output_type": "execute_result"
    }
   ],
   "source": [
    "#Finding NaN values \n",
    "boston.isna().sum()"
   ]
  },
  {
   "cell_type": "code",
   "execution_count": 154,
   "metadata": {
    "colab": {
     "base_uri": "https://localhost:8080/",
     "height": 560
    },
    "id": "8h5N6OZ56NB8",
    "outputId": "0811388b-bd7e-4209-eff5-d90eb45b1888"
   },
   "outputs": [
    {
     "data": {
      "image/png": "[encoded data removed]",
      "text/plain": [
       "<Figure size 1296x864 with 9 Axes>"
      ]
     },
     "metadata": {
      "needs_background": "light"
     },
     "output_type": "display_data"
    }
   ],
   "source": [
    "#Visualization of the variables' distribution\n",
    "\n",
    "columns = ['longitude', 'housing_median_age', 'total_rooms',\n",
    "       'total_bedrooms','households', 'median_income','longitude',\n",
    "        'latitude','median_house_value']\n",
    "\n",
    "\n",
    "def distplot(nrows, ncols, columns):\n",
    "\n",
    "    rows=nrows\n",
    "    cols=ncols\n",
    "\n",
    "    fig, ax = plt.subplots(nrows=rows, ncols=cols, figsize=(18, 12))\n",
    "\n",
    "    columns = columns\n",
    "    index=0\n",
    "\n",
    "    for i in range(rows):\n",
    "        for j in range(cols):\n",
    "            sns.distplot(boston[columns[index]], ax=ax[i][j])\n",
    "            index+=1\n",
    "\n",
    "        \n",
    "distplot(3, 3, columns)"
   ]
  },
  {
   "cell_type": "markdown",
   "metadata": {
    "id": "x4ZyjFeF6NCB"
   },
   "source": [
    "##### Some explorations : "
   ]
  },
  {
   "cell_type": "markdown",
   "metadata": {
    "id": "kDLw_cxR6NCC"
   },
   "source": [
    "These histograms reveal a few things :\n",
    "\n",
    "- We notice that the housing_median_age and the median_house_value were capped\n",
    "- In median_hous_value's histogram, the target variable, Machine Learning algorithms may learn that prices will never go beyond the limit \"$500,000\" \n",
    "- The same thing with the housing median age variable, they might learn that median age will never go beyond 50, 36, and 16 years \n",
    "     - We will clean up those districts from the data later before feeding the data to a Machine Learning algorithm \n",
    "- Some variables are tail heavy : they extend much farther to the right of the median than to the left. This may make it a bit harder for some Machine Learning algorithms to detect patterns. \n",
    "    - So, we will transforming those attributes later to have more bell-shaped distributions if there are correlated with the target\n"
   ]
  },
  {
   "cell_type": "code",
   "execution_count": 155,
   "metadata": {
    "colab": {
     "base_uri": "https://localhost:8080/",
     "height": 1000
    },
    "id": "1uLjmHwh6NCD",
    "outputId": "c426115e-f4f5-4323-e682-3fc84848d034"
   },
   "outputs": [
    {
     "data": {
      "image/png": "[encoded data removed]",
      "text/plain": [
       "<Figure size 432x288 with 1 Axes>"
      ]
     },
     "metadata": {
      "needs_background": "light"
     },
     "output_type": "display_data"
    }
   ],
   "source": [
    "#let’s zoom in on the target variable\n",
    "plt.figure()\n",
    "plt.hist(boston['median_house_value'], bins=150)\n",
    "plt.show()"
   ]
  },
  {
   "cell_type": "code",
   "execution_count": 156,
   "metadata": {
    "colab": {
     "base_uri": "https://localhost:8080/"
    },
    "id": "bPKK3cyS6NCG",
    "outputId": "b1b5a7b8-f70f-4534-fd75-4e2e84517bbc"
   },
   "outputs": [
    {
     "data": {
      "text/plain": [
       "(992, 10)"
      ]
     },
     "execution_count": 156,
     "metadata": {},
     "output_type": "execute_result"
    }
   ],
   "source": [
    "#The shape of those districts\n",
    "boston[boston['median_house_value'] >= 500000 ].shape"
   ]
  },
  {
   "cell_type": "code",
   "execution_count": 157,
   "metadata": {
    "colab": {
     "base_uri": "https://localhost:8080/"
    },
    "id": "F4WTwjsv6NCO",
    "outputId": "489fe874-b92a-47c2-b1e0-b84e027b9d06"
   },
   "outputs": [
    {
     "data": {
      "text/plain": [
       "(19675, 10)"
      ]
     },
     "execution_count": 157,
     "metadata": {},
     "output_type": "execute_result"
    }
   ],
   "source": [
    "#The shape of the data without those districts \n",
    "boston[boston['median_house_value'] <= 500000].shape"
   ]
  },
  {
   "cell_type": "code",
   "execution_count": 158,
   "metadata": {
    "colab": {
     "base_uri": "https://localhost:8080/"
    },
    "id": "6oYjoRu26NCS",
    "outputId": "d48e1e50-531b-4f6b-d82f-5a8c30499cab"
   },
   "outputs": [
    {
     "data": {
      "text/plain": [
       "(19675, 10)"
      ]
     },
     "execution_count": 158,
     "metadata": {},
     "output_type": "execute_result"
    }
   ],
   "source": [
    "#Removing those districts from the data\n",
    "boston = boston[boston['median_house_value'] <= 500000]\n",
    "boston.shape"
   ]
  },
  {
   "cell_type": "code",
   "execution_count": 159,
   "metadata": {
    "colab": {
     "base_uri": "https://localhost:8080/",
     "height": 741
    },
    "id": "qTlSBr3K6NCX",
    "outputId": "71e2173e-4cb3-49f4-ff16-b9ec051ebc15"
   },
   "outputs": [
    {
     "data": {
      "image/png": "[encoded data removed]",
      "text/plain": [
       "<Figure size 432x288 with 1 Axes>"
      ]
     },
     "metadata": {
      "needs_background": "light"
     },
     "output_type": "display_data"
    }
   ],
   "source": [
    "#Making sure that our target is clean\n",
    "plt.figure()\n",
    "plt.hist(boston['median_house_value'], bins=100)\n",
    "plt.show()"
   ]
  },
  {
   "cell_type": "markdown",
   "metadata": {
    "id": "FWAbTf7A6NCa"
   },
   "source": [
    "### Feature Engineering\n",
    "1 - Adding new variables :"
   ]
  },
  {
   "cell_type": "code",
   "execution_count": 129,
   "metadata": {
    "id": "NC13BKaq6NCb"
   },
   "outputs": [],
   "source": [
    "boston[\"rooms_per_household\"] = boston[\"total_rooms\"] / boston[\"households\"]\n",
    "boston[\"bedrooms_per_room\"] = boston[\"total_bedrooms\"] / boston[\"total_rooms\"]\n",
    "boston[\"population_per_household\"] = boston[\"population\"] / boston[\"households\"]"
   ]
  },
  {
   "cell_type": "code",
   "execution_count": 130,
   "metadata": {
    "colab": {
     "base_uri": "https://localhost:8080/",
     "height": 224
    },
    "id": "8dEDn-Y96NCf",
    "outputId": "46ad4595-26c5-42b3-9db1-b1d04735865f"
   },
   "outputs": [
    {
     "data": {
      "text/html": [
       "<div>\n",
       "<style scoped>\n",
       "    .dataframe tbody tr th:only-of-type {\n",
       "        vertical-align: middle;\n",
       "    }\n",
       "\n",
       "    .dataframe tbody tr th {\n",
       "        vertical-align: top;\n",
       "    }\n",
       "\n",
       "    .dataframe thead th {\n",
       "        text-align: right;\n",
       "    }\n",
       "</style>\n",
       "<table border=\"1\" class=\"dataframe\">\n",
       "  <thead>\n",
       "    <tr style=\"text-align: right;\">\n",
       "      <th></th>\n",
       "      <th>longitude</th>\n",
       "      <th>latitude</th>\n",
       "      <th>housing_median_age</th>\n",
       "      <th>total_rooms</th>\n",
       "      <th>total_bedrooms</th>\n",
       "      <th>population</th>\n",
       "      <th>households</th>\n",
       "      <th>median_income</th>\n",
       "      <th>median_house_value</th>\n",
       "      <th>ocean_proximity</th>\n",
       "      <th>rooms_per_household</th>\n",
       "      <th>bedrooms_per_room</th>\n",
       "      <th>population_per_household</th>\n",
       "    </tr>\n",
       "  </thead>\n",
       "  <tbody>\n",
       "    <tr>\n",
       "      <th>0</th>\n",
       "      <td>-122.23</td>\n",
       "      <td>37.88</td>\n",
       "      <td>41.0</td>\n",
       "      <td>880.0</td>\n",
       "      <td>129.0</td>\n",
       "      <td>322.0</td>\n",
       "      <td>126.0</td>\n",
       "      <td>8.3252</td>\n",
       "      <td>452600.0</td>\n",
       "      <td>NEAR BAY</td>\n",
       "      <td>6.984127</td>\n",
       "      <td>0.146591</td>\n",
       "      <td>2.555556</td>\n",
       "    </tr>\n",
       "    <tr>\n",
       "      <th>1</th>\n",
       "      <td>-122.22</td>\n",
       "      <td>37.86</td>\n",
       "      <td>21.0</td>\n",
       "      <td>7099.0</td>\n",
       "      <td>1106.0</td>\n",
       "      <td>2401.0</td>\n",
       "      <td>1138.0</td>\n",
       "      <td>8.3014</td>\n",
       "      <td>358500.0</td>\n",
       "      <td>NEAR BAY</td>\n",
       "      <td>6.238137</td>\n",
       "      <td>0.155797</td>\n",
       "      <td>2.109842</td>\n",
       "    </tr>\n",
       "    <tr>\n",
       "      <th>2</th>\n",
       "      <td>-122.24</td>\n",
       "      <td>37.85</td>\n",
       "      <td>52.0</td>\n",
       "      <td>1467.0</td>\n",
       "      <td>190.0</td>\n",
       "      <td>496.0</td>\n",
       "      <td>177.0</td>\n",
       "      <td>7.2574</td>\n",
       "      <td>352100.0</td>\n",
       "      <td>NEAR BAY</td>\n",
       "      <td>8.288136</td>\n",
       "      <td>0.129516</td>\n",
       "      <td>2.802260</td>\n",
       "    </tr>\n",
       "    <tr>\n",
       "      <th>3</th>\n",
       "      <td>-122.25</td>\n",
       "      <td>37.85</td>\n",
       "      <td>52.0</td>\n",
       "      <td>1274.0</td>\n",
       "      <td>235.0</td>\n",
       "      <td>558.0</td>\n",
       "      <td>219.0</td>\n",
       "      <td>5.6431</td>\n",
       "      <td>341300.0</td>\n",
       "      <td>NEAR BAY</td>\n",
       "      <td>5.817352</td>\n",
       "      <td>0.184458</td>\n",
       "      <td>2.547945</td>\n",
       "    </tr>\n",
       "    <tr>\n",
       "      <th>4</th>\n",
       "      <td>-122.25</td>\n",
       "      <td>37.85</td>\n",
       "      <td>52.0</td>\n",
       "      <td>1627.0</td>\n",
       "      <td>280.0</td>\n",
       "      <td>565.0</td>\n",
       "      <td>259.0</td>\n",
       "      <td>3.8462</td>\n",
       "      <td>342200.0</td>\n",
       "      <td>NEAR BAY</td>\n",
       "      <td>6.281853</td>\n",
       "      <td>0.172096</td>\n",
       "      <td>2.181467</td>\n",
       "    </tr>\n",
       "  </tbody>\n",
       "</table>\n",
       "</div>"
      ],
      "text/plain": [
       "   longitude  latitude  housing_median_age  total_rooms  total_bedrooms  \\\n",
       "0    -122.23     37.88                41.0        880.0           129.0   \n",
       "1    -122.22     37.86                21.0       7099.0          1106.0   \n",
       "2    -122.24     37.85                52.0       1467.0           190.0   \n",
       "3    -122.25     37.85                52.0       1274.0           235.0   \n",
       "4    -122.25     37.85                52.0       1627.0           280.0   \n",
       "\n",
       "   population  households  median_income  median_house_value ocean_proximity  \\\n",
       "0       322.0       126.0         8.3252            452600.0        NEAR BAY   \n",
       "1      2401.0      1138.0         8.3014            358500.0        NEAR BAY   \n",
       "2       496.0       177.0         7.2574            352100.0        NEAR BAY   \n",
       "3       558.0       219.0         5.6431            341300.0        NEAR BAY   \n",
       "4       565.0       259.0         3.8462            342200.0        NEAR BAY   \n",
       "\n",
       "   rooms_per_household  bedrooms_per_room  population_per_household  \n",
       "0             6.984127           0.146591                  2.555556  \n",
       "1             6.238137           0.155797                  2.109842  \n",
       "2             8.288136           0.129516                  2.802260  \n",
       "3             5.817352           0.184458                  2.547945  \n",
       "4             6.281853           0.172096                  2.181467  "
      ]
     },
     "execution_count": 130,
     "metadata": {},
     "output_type": "execute_result"
    }
   ],
   "source": [
    "boston.head()"
   ]
  },
  {
   "cell_type": "code",
   "execution_count": 139,
   "metadata": {
    "colab": {
     "base_uri": "https://localhost:8080/",
     "height": 812
    },
    "id": "SQkD1xqJ6NCi",
    "outputId": "f8f8e620-314c-4b66-821c-35233ce06f3c",
    "scrolled": false
   },
   "outputs": [
    {
     "data": {
      "image/png": "[encoded data removed]",
      "text/plain": [
       "<Figure size 432x288 with 1 Axes>"
      ]
     },
     "metadata": {
      "needs_background": "light"
     },
     "output_type": "display_data"
    },
    {
     "data": {
      "image/png": "[encoded data removed]",
      "text/plain": [
       "<Figure size 432x288 with 1 Axes>"
      ]
     },
     "metadata": {
      "needs_background": "light"
     },
     "output_type": "display_data"
    },
    {
     "data": {
      "image/png": "[encoded data removed]",
      "text/plain": [
       "<Figure size 432x288 with 1 Axes>"
      ]
     },
     "metadata": {
      "needs_background": "light"
     },
     "output_type": "display_data"
    }
   ],
   "source": [
    "#Visualisation the distribution of those new variables \n",
    "\n",
    "new_columns = ['rooms_per_household', 'bedrooms_per_room','population_per_household']\n",
    "\n",
    "for col in new_columns :\n",
    "    plt.figure()\n",
    "    sns.distplot(boston[col])\n",
    "    plt.show()\n"
   ]
  },
  {
   "cell_type": "markdown",
   "metadata": {
    "id": "iJ46BF5I6NCo"
   },
   "source": [
    "#### Correlation Matrix"
   ]
  },
  {
   "cell_type": "code",
   "execution_count": 163,
   "metadata": {
    "colab": {
     "base_uri": "https://localhost:8080/",
     "height": 527
    },
    "id": "g1c60EaS6NCp",
    "outputId": "1ef26a88-686f-4d5c-9c1d-490432b95582"
   },
   "outputs": [
    {
     "data": {
      "text/plain": [
       "<matplotlib.axes._subplots.AxesSubplot at 0x7fd583f3f850>"
      ]
     },
     "execution_count": 163,
     "metadata": {},
     "output_type": "execute_result"
    },
    {
     "data": {
      "image/png": "[encoded data removed]",
      "text/plain": [
       "<Figure size 1080x504 with 2 Axes>"
      ]
     },
     "metadata": {
      "needs_background": "light"
     },
     "output_type": "display_data"
    }
   ],
   "source": [
    "# Visualization of the correlation between all the numerical variables\n",
    "plt.figure(figsize=(15,7))\n",
    "corr_matrix = boston.corr()\n",
    "sns.heatmap(corr_matrix, annot=True, cmap=\"YlGnBu\")"
   ]
  },
  {
   "cell_type": "code",
   "execution_count": 43,
   "metadata": {
    "colab": {
     "base_uri": "https://localhost:8080/"
    },
    "id": "rfB63lWH6NCs",
    "outputId": "c465b7d6-433c-49dd-8c37-d575d7a627fa"
   },
   "outputs": [
    {
     "data": {
      "text/plain": [
       "median_house_value          1.000000\n",
       "median_income               0.642611\n",
       "total_rooms                 0.143139\n",
       "rooms_per_household         0.109673\n",
       "households                  0.094894\n",
       "total_bedrooms              0.074672\n",
       "housing_median_age          0.067948\n",
       "population                  0.011964\n",
       "population_per_household   -0.021465\n",
       "longitude                  -0.046658\n",
       "latitude                   -0.148289\n",
       "bedrooms_per_room          -0.215950\n",
       "Name: median_house_value, dtype: float64"
      ]
     },
     "execution_count": 43,
     "metadata": {},
     "output_type": "execute_result"
    }
   ],
   "source": [
    "# The correlation between the targer and other variables\n",
    "corr_matrix['median_house_value'].sort_values(ascending=False)"
   ]
  },
  {
   "cell_type": "markdown",
   "metadata": {},
   "source": [
    "- Median income, total rooms and bedrooms per room are more correlated with the target variable\n"
   ]
  },
  {
   "cell_type": "markdown",
   "metadata": {},
   "source": [
    "#### Visualizing Geographical Data"
   ]
  },
  {
   "cell_type": "code",
   "execution_count": 162,
   "metadata": {},
   "outputs": [
    {
     "data": {
      "text/plain": [
       "<matplotlib.legend.Legend at 0x7fd57da4c5b0>"
      ]
     },
     "execution_count": 162,
     "metadata": {},
     "output_type": "execute_result"
    },
    {
     "data": {
      "image/png": "[encoded data removed]",
      "text/plain": [
       "<Figure size 720x504 with 2 Axes>"
      ]
     },
     "metadata": {
      "needs_background": "light"
     },
     "output_type": "display_data"
    }
   ],
   "source": [
    "boston.plot(kind='scatter', x='longitude', y='latitude', alpha=0.4, label='population',\n",
    "            figsize=(10,7),c='median_house_value',s=boston['population']/100, cmap=plt.get_cmap('cubehelix') ,colorbar=True)\n",
    "              \n",
    "plt.legend()"
   ]
  },
  {
   "cell_type": "markdown",
   "metadata": {},
   "source": [
    "This geographical scatterplot of the data tells us that the housing prices are very much related to the location (close to the ocean) and to the population density"
   ]
  },
  {
   "cell_type": "markdown",
   "metadata": {
    "id": "sM_9M6o66NCw"
   },
   "source": [
    "## Preprocessing"
   ]
  },
  {
   "cell_type": "code",
   "execution_count": 45,
   "metadata": {
    "colab": {
     "base_uri": "https://localhost:8080/",
     "height": 224
    },
    "id": "BFKDg27y6NCx",
    "outputId": "30cc157d-d33f-4665-8a0e-06d25f46b1d3"
   },
   "outputs": [
    {
     "data": {
      "text/html": [
       "<div>\n",
       "<style scoped>\n",
       "    .dataframe tbody tr th:only-of-type {\n",
       "        vertical-align: middle;\n",
       "    }\n",
       "\n",
       "    .dataframe tbody tr th {\n",
       "        vertical-align: top;\n",
       "    }\n",
       "\n",
       "    .dataframe thead th {\n",
       "        text-align: right;\n",
       "    }\n",
       "</style>\n",
       "<table border=\"1\" class=\"dataframe\">\n",
       "  <thead>\n",
       "    <tr style=\"text-align: right;\">\n",
       "      <th></th>\n",
       "      <th>median_income</th>\n",
       "      <th>total_rooms</th>\n",
       "      <th>bedrooms_per_room</th>\n",
       "      <th>households</th>\n",
       "      <th>total_bedrooms</th>\n",
       "      <th>housing_median_age</th>\n",
       "      <th>population_per_household</th>\n",
       "      <th>ocean_proximity</th>\n",
       "      <th>longitude</th>\n",
       "      <th>latitude</th>\n",
       "      <th>median_house_value</th>\n",
       "    </tr>\n",
       "  </thead>\n",
       "  <tbody>\n",
       "    <tr>\n",
       "      <th>0</th>\n",
       "      <td>8.3252</td>\n",
       "      <td>880.0</td>\n",
       "      <td>0.146591</td>\n",
       "      <td>126.0</td>\n",
       "      <td>129.0</td>\n",
       "      <td>41.0</td>\n",
       "      <td>2.555556</td>\n",
       "      <td>NEAR BAY</td>\n",
       "      <td>-122.23</td>\n",
       "      <td>37.88</td>\n",
       "      <td>452600.0</td>\n",
       "    </tr>\n",
       "    <tr>\n",
       "      <th>1</th>\n",
       "      <td>8.3014</td>\n",
       "      <td>7099.0</td>\n",
       "      <td>0.155797</td>\n",
       "      <td>1138.0</td>\n",
       "      <td>1106.0</td>\n",
       "      <td>21.0</td>\n",
       "      <td>2.109842</td>\n",
       "      <td>NEAR BAY</td>\n",
       "      <td>-122.22</td>\n",
       "      <td>37.86</td>\n",
       "      <td>358500.0</td>\n",
       "    </tr>\n",
       "    <tr>\n",
       "      <th>2</th>\n",
       "      <td>7.2574</td>\n",
       "      <td>1467.0</td>\n",
       "      <td>0.129516</td>\n",
       "      <td>177.0</td>\n",
       "      <td>190.0</td>\n",
       "      <td>52.0</td>\n",
       "      <td>2.802260</td>\n",
       "      <td>NEAR BAY</td>\n",
       "      <td>-122.24</td>\n",
       "      <td>37.85</td>\n",
       "      <td>352100.0</td>\n",
       "    </tr>\n",
       "    <tr>\n",
       "      <th>3</th>\n",
       "      <td>5.6431</td>\n",
       "      <td>1274.0</td>\n",
       "      <td>0.184458</td>\n",
       "      <td>219.0</td>\n",
       "      <td>235.0</td>\n",
       "      <td>52.0</td>\n",
       "      <td>2.547945</td>\n",
       "      <td>NEAR BAY</td>\n",
       "      <td>-122.25</td>\n",
       "      <td>37.85</td>\n",
       "      <td>341300.0</td>\n",
       "    </tr>\n",
       "    <tr>\n",
       "      <th>4</th>\n",
       "      <td>3.8462</td>\n",
       "      <td>1627.0</td>\n",
       "      <td>0.172096</td>\n",
       "      <td>259.0</td>\n",
       "      <td>280.0</td>\n",
       "      <td>52.0</td>\n",
       "      <td>2.181467</td>\n",
       "      <td>NEAR BAY</td>\n",
       "      <td>-122.25</td>\n",
       "      <td>37.85</td>\n",
       "      <td>342200.0</td>\n",
       "    </tr>\n",
       "  </tbody>\n",
       "</table>\n",
       "</div>"
      ],
      "text/plain": [
       "   median_income  total_rooms  bedrooms_per_room  households  total_bedrooms  \\\n",
       "0         8.3252        880.0           0.146591       126.0           129.0   \n",
       "1         8.3014       7099.0           0.155797      1138.0          1106.0   \n",
       "2         7.2574       1467.0           0.129516       177.0           190.0   \n",
       "3         5.6431       1274.0           0.184458       219.0           235.0   \n",
       "4         3.8462       1627.0           0.172096       259.0           280.0   \n",
       "\n",
       "   housing_median_age  population_per_household ocean_proximity  longitude  \\\n",
       "0                41.0                  2.555556        NEAR BAY    -122.23   \n",
       "1                21.0                  2.109842        NEAR BAY    -122.22   \n",
       "2                52.0                  2.802260        NEAR BAY    -122.24   \n",
       "3                52.0                  2.547945        NEAR BAY    -122.25   \n",
       "4                52.0                  2.181467        NEAR BAY    -122.25   \n",
       "\n",
       "   latitude  median_house_value  \n",
       "0     37.88            452600.0  \n",
       "1     37.86            358500.0  \n",
       "2     37.85            352100.0  \n",
       "3     37.85            341300.0  \n",
       "4     37.85            342200.0  "
      ]
     },
     "execution_count": 45,
     "metadata": {},
     "output_type": "execute_result"
    }
   ],
   "source": [
    "boston = boston[['median_income','total_rooms','bedrooms_per_room','households','total_bedrooms','housing_median_age','population_per_household','ocean_proximity','longitude','latitude','median_house_value']]\n",
    "boston.head()"
   ]
  },
  {
   "cell_type": "markdown",
   "metadata": {
    "id": "WrfPF3TF6NC1"
   },
   "source": [
    "#### Removing Missing Values"
   ]
  },
  {
   "cell_type": "code",
   "execution_count": 46,
   "metadata": {
    "colab": {
     "base_uri": "https://localhost:8080/"
    },
    "id": "yV6g4YY36NC2",
    "outputId": "6d1619f3-ac51-4462-e9b3-3fa156d491dc"
   },
   "outputs": [
    {
     "name": "stdout",
     "output_type": "stream",
     "text": [
      "median_income               0\n",
      "total_rooms                 0\n",
      "bedrooms_per_room           0\n",
      "households                  0\n",
      "total_bedrooms              0\n",
      "housing_median_age          0\n",
      "population_per_household    0\n",
      "ocean_proximity             0\n",
      "longitude                   0\n",
      "latitude                    0\n",
      "median_house_value          0\n",
      "dtype: int64\n"
     ]
    }
   ],
   "source": [
    "boston.dropna(axis=0, inplace=True)\n",
    "print(boston.isna().sum())"
   ]
  },
  {
   "cell_type": "code",
   "execution_count": 47,
   "metadata": {
    "colab": {
     "base_uri": "https://localhost:8080/",
     "height": 439
    },
    "id": "stMz3Ja26NC6",
    "outputId": "70756c94-ba61-4216-a61c-0d9a785dc693"
   },
   "outputs": [
    {
     "data": {
      "text/html": [
       "<div>\n",
       "<style scoped>\n",
       "    .dataframe tbody tr th:only-of-type {\n",
       "        vertical-align: middle;\n",
       "    }\n",
       "\n",
       "    .dataframe tbody tr th {\n",
       "        vertical-align: top;\n",
       "    }\n",
       "\n",
       "    .dataframe thead th {\n",
       "        text-align: right;\n",
       "    }\n",
       "</style>\n",
       "<table border=\"1\" class=\"dataframe\">\n",
       "  <thead>\n",
       "    <tr style=\"text-align: right;\">\n",
       "      <th></th>\n",
       "      <th>median_income</th>\n",
       "      <th>total_rooms</th>\n",
       "      <th>bedrooms_per_room</th>\n",
       "      <th>households</th>\n",
       "      <th>total_bedrooms</th>\n",
       "      <th>housing_median_age</th>\n",
       "      <th>population_per_household</th>\n",
       "      <th>ocean_proximity</th>\n",
       "      <th>longitude</th>\n",
       "      <th>latitude</th>\n",
       "      <th>median_house_value</th>\n",
       "    </tr>\n",
       "  </thead>\n",
       "  <tbody>\n",
       "    <tr>\n",
       "      <th>0</th>\n",
       "      <td>8.3252</td>\n",
       "      <td>880.0</td>\n",
       "      <td>0.146591</td>\n",
       "      <td>126.0</td>\n",
       "      <td>129.0</td>\n",
       "      <td>41.0</td>\n",
       "      <td>2.555556</td>\n",
       "      <td>NEAR BAY</td>\n",
       "      <td>-122.23</td>\n",
       "      <td>37.88</td>\n",
       "      <td>452600.0</td>\n",
       "    </tr>\n",
       "    <tr>\n",
       "      <th>1</th>\n",
       "      <td>8.3014</td>\n",
       "      <td>7099.0</td>\n",
       "      <td>0.155797</td>\n",
       "      <td>1138.0</td>\n",
       "      <td>1106.0</td>\n",
       "      <td>21.0</td>\n",
       "      <td>2.109842</td>\n",
       "      <td>NEAR BAY</td>\n",
       "      <td>-122.22</td>\n",
       "      <td>37.86</td>\n",
       "      <td>358500.0</td>\n",
       "    </tr>\n",
       "    <tr>\n",
       "      <th>2</th>\n",
       "      <td>7.2574</td>\n",
       "      <td>1467.0</td>\n",
       "      <td>0.129516</td>\n",
       "      <td>177.0</td>\n",
       "      <td>190.0</td>\n",
       "      <td>52.0</td>\n",
       "      <td>2.802260</td>\n",
       "      <td>NEAR BAY</td>\n",
       "      <td>-122.24</td>\n",
       "      <td>37.85</td>\n",
       "      <td>352100.0</td>\n",
       "    </tr>\n",
       "    <tr>\n",
       "      <th>3</th>\n",
       "      <td>5.6431</td>\n",
       "      <td>1274.0</td>\n",
       "      <td>0.184458</td>\n",
       "      <td>219.0</td>\n",
       "      <td>235.0</td>\n",
       "      <td>52.0</td>\n",
       "      <td>2.547945</td>\n",
       "      <td>NEAR BAY</td>\n",
       "      <td>-122.25</td>\n",
       "      <td>37.85</td>\n",
       "      <td>341300.0</td>\n",
       "    </tr>\n",
       "    <tr>\n",
       "      <th>4</th>\n",
       "      <td>3.8462</td>\n",
       "      <td>1627.0</td>\n",
       "      <td>0.172096</td>\n",
       "      <td>259.0</td>\n",
       "      <td>280.0</td>\n",
       "      <td>52.0</td>\n",
       "      <td>2.181467</td>\n",
       "      <td>NEAR BAY</td>\n",
       "      <td>-122.25</td>\n",
       "      <td>37.85</td>\n",
       "      <td>342200.0</td>\n",
       "    </tr>\n",
       "    <tr>\n",
       "      <th>...</th>\n",
       "      <td>...</td>\n",
       "      <td>...</td>\n",
       "      <td>...</td>\n",
       "      <td>...</td>\n",
       "      <td>...</td>\n",
       "      <td>...</td>\n",
       "      <td>...</td>\n",
       "      <td>...</td>\n",
       "      <td>...</td>\n",
       "      <td>...</td>\n",
       "      <td>...</td>\n",
       "    </tr>\n",
       "    <tr>\n",
       "      <th>19470</th>\n",
       "      <td>1.5603</td>\n",
       "      <td>1665.0</td>\n",
       "      <td>0.224625</td>\n",
       "      <td>330.0</td>\n",
       "      <td>374.0</td>\n",
       "      <td>25.0</td>\n",
       "      <td>2.560606</td>\n",
       "      <td>INLAND</td>\n",
       "      <td>-121.09</td>\n",
       "      <td>39.48</td>\n",
       "      <td>78100.0</td>\n",
       "    </tr>\n",
       "    <tr>\n",
       "      <th>19471</th>\n",
       "      <td>2.5568</td>\n",
       "      <td>697.0</td>\n",
       "      <td>0.215208</td>\n",
       "      <td>114.0</td>\n",
       "      <td>150.0</td>\n",
       "      <td>18.0</td>\n",
       "      <td>3.122807</td>\n",
       "      <td>INLAND</td>\n",
       "      <td>-121.21</td>\n",
       "      <td>39.49</td>\n",
       "      <td>77100.0</td>\n",
       "    </tr>\n",
       "    <tr>\n",
       "      <th>19472</th>\n",
       "      <td>1.7000</td>\n",
       "      <td>2254.0</td>\n",
       "      <td>0.215173</td>\n",
       "      <td>433.0</td>\n",
       "      <td>485.0</td>\n",
       "      <td>17.0</td>\n",
       "      <td>2.325635</td>\n",
       "      <td>INLAND</td>\n",
       "      <td>-121.22</td>\n",
       "      <td>39.43</td>\n",
       "      <td>92300.0</td>\n",
       "    </tr>\n",
       "    <tr>\n",
       "      <th>19473</th>\n",
       "      <td>1.8672</td>\n",
       "      <td>1860.0</td>\n",
       "      <td>0.219892</td>\n",
       "      <td>349.0</td>\n",
       "      <td>409.0</td>\n",
       "      <td>18.0</td>\n",
       "      <td>2.123209</td>\n",
       "      <td>INLAND</td>\n",
       "      <td>-121.32</td>\n",
       "      <td>39.43</td>\n",
       "      <td>84700.0</td>\n",
       "    </tr>\n",
       "    <tr>\n",
       "      <th>19474</th>\n",
       "      <td>2.3886</td>\n",
       "      <td>2785.0</td>\n",
       "      <td>0.221185</td>\n",
       "      <td>530.0</td>\n",
       "      <td>616.0</td>\n",
       "      <td>16.0</td>\n",
       "      <td>2.616981</td>\n",
       "      <td>INLAND</td>\n",
       "      <td>-121.24</td>\n",
       "      <td>39.37</td>\n",
       "      <td>89400.0</td>\n",
       "    </tr>\n",
       "  </tbody>\n",
       "</table>\n",
       "<p>19475 rows × 11 columns</p>\n",
       "</div>"
      ],
      "text/plain": [
       "       median_income  total_rooms  bedrooms_per_room  households  \\\n",
       "0             8.3252        880.0           0.146591       126.0   \n",
       "1             8.3014       7099.0           0.155797      1138.0   \n",
       "2             7.2574       1467.0           0.129516       177.0   \n",
       "3             5.6431       1274.0           0.184458       219.0   \n",
       "4             3.8462       1627.0           0.172096       259.0   \n",
       "...              ...          ...                ...         ...   \n",
       "19470         1.5603       1665.0           0.224625       330.0   \n",
       "19471         2.5568        697.0           0.215208       114.0   \n",
       "19472         1.7000       2254.0           0.215173       433.0   \n",
       "19473         1.8672       1860.0           0.219892       349.0   \n",
       "19474         2.3886       2785.0           0.221185       530.0   \n",
       "\n",
       "       total_bedrooms  housing_median_age  population_per_household  \\\n",
       "0               129.0                41.0                  2.555556   \n",
       "1              1106.0                21.0                  2.109842   \n",
       "2               190.0                52.0                  2.802260   \n",
       "3               235.0                52.0                  2.547945   \n",
       "4               280.0                52.0                  2.181467   \n",
       "...               ...                 ...                       ...   \n",
       "19470           374.0                25.0                  2.560606   \n",
       "19471           150.0                18.0                  3.122807   \n",
       "19472           485.0                17.0                  2.325635   \n",
       "19473           409.0                18.0                  2.123209   \n",
       "19474           616.0                16.0                  2.616981   \n",
       "\n",
       "      ocean_proximity  longitude  latitude  median_house_value  \n",
       "0            NEAR BAY    -122.23     37.88            452600.0  \n",
       "1            NEAR BAY    -122.22     37.86            358500.0  \n",
       "2            NEAR BAY    -122.24     37.85            352100.0  \n",
       "3            NEAR BAY    -122.25     37.85            341300.0  \n",
       "4            NEAR BAY    -122.25     37.85            342200.0  \n",
       "...               ...        ...       ...                 ...  \n",
       "19470          INLAND    -121.09     39.48             78100.0  \n",
       "19471          INLAND    -121.21     39.49             77100.0  \n",
       "19472          INLAND    -121.22     39.43             92300.0  \n",
       "19473          INLAND    -121.32     39.43             84700.0  \n",
       "19474          INLAND    -121.24     39.37             89400.0  \n",
       "\n",
       "[19475 rows x 11 columns]"
      ]
     },
     "execution_count": 47,
     "metadata": {},
     "output_type": "execute_result"
    }
   ],
   "source": [
    "#resetting index \n",
    "boston = boston.set_index(np.arange(0,19475))\n",
    "boston"
   ]
  },
  {
   "cell_type": "code",
   "execution_count": 48,
   "metadata": {
    "colab": {
     "base_uri": "https://localhost:8080/"
    },
    "id": "yU3voPpX6NC_",
    "outputId": "7a4b0f42-6f12-49db-ee25-7b12b5f72249"
   },
   "outputs": [
    {
     "data": {
      "text/plain": [
       "median_income               0\n",
       "total_rooms                 0\n",
       "bedrooms_per_room           0\n",
       "households                  0\n",
       "total_bedrooms              0\n",
       "housing_median_age          0\n",
       "population_per_household    0\n",
       "ocean_proximity             0\n",
       "longitude                   0\n",
       "latitude                    0\n",
       "median_house_value          0\n",
       "dtype: int64"
      ]
     },
     "execution_count": 48,
     "metadata": {},
     "output_type": "execute_result"
    }
   ],
   "source": [
    "#making sure that no Missing values are left\n",
    "boston.isna().sum()"
   ]
  },
  {
   "cell_type": "markdown",
   "metadata": {
    "id": "ZrXt9rbP6NDC"
   },
   "source": [
    "#### Handing categorial variables"
   ]
  },
  {
   "cell_type": "code",
   "execution_count": 49,
   "metadata": {
    "colab": {
     "base_uri": "https://localhost:8080/"
    },
    "id": "1RROfKYI6NDE",
    "outputId": "6cc2fc67-36b7-4a47-dbe2-afb932b9c9a4"
   },
   "outputs": [
    {
     "data": {
      "text/plain": [
       "array([[0., 0., 0., 1., 0.],\n",
       "       [0., 0., 0., 1., 0.],\n",
       "       [0., 0., 0., 1., 0.],\n",
       "       ...,\n",
       "       [0., 1., 0., 0., 0.],\n",
       "       [0., 1., 0., 0., 0.],\n",
       "       [0., 1., 0., 0., 0.]])"
      ]
     },
     "execution_count": 49,
     "metadata": {},
     "output_type": "execute_result"
    }
   ],
   "source": [
    "from sklearn.preprocessing import OneHotEncoder\n",
    "\n",
    "housing_cat = boston[['ocean_proximity']]\n",
    "\n",
    "transformer = OneHotEncoder(sparse=False)\n",
    "boston_ohe = transformer.fit_transform(housing_cat)\n",
    "boston_ohe"
   ]
  },
  {
   "cell_type": "code",
   "execution_count": 50,
   "metadata": {
    "colab": {
     "base_uri": "https://localhost:8080/",
     "height": 419
    },
    "id": "Fn-Fr1Yq6NDI",
    "outputId": "a2c8ac00-bbae-4122-d2a7-3768c5b9557e",
    "scrolled": false
   },
   "outputs": [
    {
     "data": {
      "text/html": [
       "<div>\n",
       "<style scoped>\n",
       "    .dataframe tbody tr th:only-of-type {\n",
       "        vertical-align: middle;\n",
       "    }\n",
       "\n",
       "    .dataframe tbody tr th {\n",
       "        vertical-align: top;\n",
       "    }\n",
       "\n",
       "    .dataframe thead th {\n",
       "        text-align: right;\n",
       "    }\n",
       "</style>\n",
       "<table border=\"1\" class=\"dataframe\">\n",
       "  <thead>\n",
       "    <tr style=\"text-align: right;\">\n",
       "      <th></th>\n",
       "      <th>&lt;1H OCEAN</th>\n",
       "      <th>INLAND</th>\n",
       "      <th>NEAR OCEAN</th>\n",
       "      <th>NEAR BAY</th>\n",
       "      <th>ISLAND</th>\n",
       "    </tr>\n",
       "  </thead>\n",
       "  <tbody>\n",
       "    <tr>\n",
       "      <th>0</th>\n",
       "      <td>0.0</td>\n",
       "      <td>0.0</td>\n",
       "      <td>0.0</td>\n",
       "      <td>1.0</td>\n",
       "      <td>0.0</td>\n",
       "    </tr>\n",
       "    <tr>\n",
       "      <th>1</th>\n",
       "      <td>0.0</td>\n",
       "      <td>0.0</td>\n",
       "      <td>0.0</td>\n",
       "      <td>1.0</td>\n",
       "      <td>0.0</td>\n",
       "    </tr>\n",
       "    <tr>\n",
       "      <th>2</th>\n",
       "      <td>0.0</td>\n",
       "      <td>0.0</td>\n",
       "      <td>0.0</td>\n",
       "      <td>1.0</td>\n",
       "      <td>0.0</td>\n",
       "    </tr>\n",
       "    <tr>\n",
       "      <th>3</th>\n",
       "      <td>0.0</td>\n",
       "      <td>0.0</td>\n",
       "      <td>0.0</td>\n",
       "      <td>1.0</td>\n",
       "      <td>0.0</td>\n",
       "    </tr>\n",
       "    <tr>\n",
       "      <th>4</th>\n",
       "      <td>0.0</td>\n",
       "      <td>0.0</td>\n",
       "      <td>0.0</td>\n",
       "      <td>1.0</td>\n",
       "      <td>0.0</td>\n",
       "    </tr>\n",
       "    <tr>\n",
       "      <th>...</th>\n",
       "      <td>...</td>\n",
       "      <td>...</td>\n",
       "      <td>...</td>\n",
       "      <td>...</td>\n",
       "      <td>...</td>\n",
       "    </tr>\n",
       "    <tr>\n",
       "      <th>19470</th>\n",
       "      <td>0.0</td>\n",
       "      <td>1.0</td>\n",
       "      <td>0.0</td>\n",
       "      <td>0.0</td>\n",
       "      <td>0.0</td>\n",
       "    </tr>\n",
       "    <tr>\n",
       "      <th>19471</th>\n",
       "      <td>0.0</td>\n",
       "      <td>1.0</td>\n",
       "      <td>0.0</td>\n",
       "      <td>0.0</td>\n",
       "      <td>0.0</td>\n",
       "    </tr>\n",
       "    <tr>\n",
       "      <th>19472</th>\n",
       "      <td>0.0</td>\n",
       "      <td>1.0</td>\n",
       "      <td>0.0</td>\n",
       "      <td>0.0</td>\n",
       "      <td>0.0</td>\n",
       "    </tr>\n",
       "    <tr>\n",
       "      <th>19473</th>\n",
       "      <td>0.0</td>\n",
       "      <td>1.0</td>\n",
       "      <td>0.0</td>\n",
       "      <td>0.0</td>\n",
       "      <td>0.0</td>\n",
       "    </tr>\n",
       "    <tr>\n",
       "      <th>19474</th>\n",
       "      <td>0.0</td>\n",
       "      <td>1.0</td>\n",
       "      <td>0.0</td>\n",
       "      <td>0.0</td>\n",
       "      <td>0.0</td>\n",
       "    </tr>\n",
       "  </tbody>\n",
       "</table>\n",
       "<p>19475 rows × 5 columns</p>\n",
       "</div>"
      ],
      "text/plain": [
       "       <1H OCEAN  INLAND  NEAR OCEAN  NEAR BAY  ISLAND\n",
       "0            0.0     0.0         0.0       1.0     0.0\n",
       "1            0.0     0.0         0.0       1.0     0.0\n",
       "2            0.0     0.0         0.0       1.0     0.0\n",
       "3            0.0     0.0         0.0       1.0     0.0\n",
       "4            0.0     0.0         0.0       1.0     0.0\n",
       "...          ...     ...         ...       ...     ...\n",
       "19470        0.0     1.0         0.0       0.0     0.0\n",
       "19471        0.0     1.0         0.0       0.0     0.0\n",
       "19472        0.0     1.0         0.0       0.0     0.0\n",
       "19473        0.0     1.0         0.0       0.0     0.0\n",
       "19474        0.0     1.0         0.0       0.0     0.0\n",
       "\n",
       "[19475 rows x 5 columns]"
      ]
     },
     "execution_count": 50,
     "metadata": {},
     "output_type": "execute_result"
    }
   ],
   "source": [
    "OneHotEncoder = pd.DataFrame(data = boston_ohe, columns=['<1H OCEAN', 'INLAND', 'NEAR OCEAN', 'NEAR BAY', 'ISLAND'])\n",
    "\n",
    "OneHotEncoder "
   ]
  },
  {
   "cell_type": "code",
   "execution_count": 51,
   "metadata": {
    "colab": {
     "base_uri": "https://localhost:8080/"
    },
    "id": "1_1BVJPy6NDR",
    "outputId": "b5ce717f-a272-4c83-d46d-39d8255e2dd8"
   },
   "outputs": [
    {
     "data": {
      "text/plain": [
       "<1H OCEAN     0\n",
       "INLAND        0\n",
       "NEAR OCEAN    0\n",
       "NEAR BAY      0\n",
       "ISLAND        0\n",
       "dtype: int64"
      ]
     },
     "execution_count": 51,
     "metadata": {},
     "output_type": "execute_result"
    }
   ],
   "source": [
    "#Making sure that no NaN in our encoding data\n",
    "OneHotEncoder.isna().sum()"
   ]
  },
  {
   "cell_type": "code",
   "execution_count": 52,
   "metadata": {
    "colab": {
     "base_uri": "https://localhost:8080/",
     "height": 439
    },
    "id": "yVwadmif6NDT",
    "outputId": "c6cd5cb7-daa2-450a-dc1f-f73b36e17ffe"
   },
   "outputs": [
    {
     "data": {
      "text/html": [
       "<div>\n",
       "<style scoped>\n",
       "    .dataframe tbody tr th:only-of-type {\n",
       "        vertical-align: middle;\n",
       "    }\n",
       "\n",
       "    .dataframe tbody tr th {\n",
       "        vertical-align: top;\n",
       "    }\n",
       "\n",
       "    .dataframe thead th {\n",
       "        text-align: right;\n",
       "    }\n",
       "</style>\n",
       "<table border=\"1\" class=\"dataframe\">\n",
       "  <thead>\n",
       "    <tr style=\"text-align: right;\">\n",
       "      <th></th>\n",
       "      <th>median_income</th>\n",
       "      <th>total_rooms</th>\n",
       "      <th>bedrooms_per_room</th>\n",
       "      <th>households</th>\n",
       "      <th>total_bedrooms</th>\n",
       "      <th>housing_median_age</th>\n",
       "      <th>population_per_household</th>\n",
       "      <th>longitude</th>\n",
       "      <th>latitude</th>\n",
       "      <th>median_house_value</th>\n",
       "    </tr>\n",
       "  </thead>\n",
       "  <tbody>\n",
       "    <tr>\n",
       "      <th>0</th>\n",
       "      <td>8.3252</td>\n",
       "      <td>880.0</td>\n",
       "      <td>0.146591</td>\n",
       "      <td>126.0</td>\n",
       "      <td>129.0</td>\n",
       "      <td>41.0</td>\n",
       "      <td>2.555556</td>\n",
       "      <td>-122.23</td>\n",
       "      <td>37.88</td>\n",
       "      <td>452600.0</td>\n",
       "    </tr>\n",
       "    <tr>\n",
       "      <th>1</th>\n",
       "      <td>8.3014</td>\n",
       "      <td>7099.0</td>\n",
       "      <td>0.155797</td>\n",
       "      <td>1138.0</td>\n",
       "      <td>1106.0</td>\n",
       "      <td>21.0</td>\n",
       "      <td>2.109842</td>\n",
       "      <td>-122.22</td>\n",
       "      <td>37.86</td>\n",
       "      <td>358500.0</td>\n",
       "    </tr>\n",
       "    <tr>\n",
       "      <th>2</th>\n",
       "      <td>7.2574</td>\n",
       "      <td>1467.0</td>\n",
       "      <td>0.129516</td>\n",
       "      <td>177.0</td>\n",
       "      <td>190.0</td>\n",
       "      <td>52.0</td>\n",
       "      <td>2.802260</td>\n",
       "      <td>-122.24</td>\n",
       "      <td>37.85</td>\n",
       "      <td>352100.0</td>\n",
       "    </tr>\n",
       "    <tr>\n",
       "      <th>3</th>\n",
       "      <td>5.6431</td>\n",
       "      <td>1274.0</td>\n",
       "      <td>0.184458</td>\n",
       "      <td>219.0</td>\n",
       "      <td>235.0</td>\n",
       "      <td>52.0</td>\n",
       "      <td>2.547945</td>\n",
       "      <td>-122.25</td>\n",
       "      <td>37.85</td>\n",
       "      <td>341300.0</td>\n",
       "    </tr>\n",
       "    <tr>\n",
       "      <th>4</th>\n",
       "      <td>3.8462</td>\n",
       "      <td>1627.0</td>\n",
       "      <td>0.172096</td>\n",
       "      <td>259.0</td>\n",
       "      <td>280.0</td>\n",
       "      <td>52.0</td>\n",
       "      <td>2.181467</td>\n",
       "      <td>-122.25</td>\n",
       "      <td>37.85</td>\n",
       "      <td>342200.0</td>\n",
       "    </tr>\n",
       "    <tr>\n",
       "      <th>...</th>\n",
       "      <td>...</td>\n",
       "      <td>...</td>\n",
       "      <td>...</td>\n",
       "      <td>...</td>\n",
       "      <td>...</td>\n",
       "      <td>...</td>\n",
       "      <td>...</td>\n",
       "      <td>...</td>\n",
       "      <td>...</td>\n",
       "      <td>...</td>\n",
       "    </tr>\n",
       "    <tr>\n",
       "      <th>19470</th>\n",
       "      <td>1.5603</td>\n",
       "      <td>1665.0</td>\n",
       "      <td>0.224625</td>\n",
       "      <td>330.0</td>\n",
       "      <td>374.0</td>\n",
       "      <td>25.0</td>\n",
       "      <td>2.560606</td>\n",
       "      <td>-121.09</td>\n",
       "      <td>39.48</td>\n",
       "      <td>78100.0</td>\n",
       "    </tr>\n",
       "    <tr>\n",
       "      <th>19471</th>\n",
       "      <td>2.5568</td>\n",
       "      <td>697.0</td>\n",
       "      <td>0.215208</td>\n",
       "      <td>114.0</td>\n",
       "      <td>150.0</td>\n",
       "      <td>18.0</td>\n",
       "      <td>3.122807</td>\n",
       "      <td>-121.21</td>\n",
       "      <td>39.49</td>\n",
       "      <td>77100.0</td>\n",
       "    </tr>\n",
       "    <tr>\n",
       "      <th>19472</th>\n",
       "      <td>1.7000</td>\n",
       "      <td>2254.0</td>\n",
       "      <td>0.215173</td>\n",
       "      <td>433.0</td>\n",
       "      <td>485.0</td>\n",
       "      <td>17.0</td>\n",
       "      <td>2.325635</td>\n",
       "      <td>-121.22</td>\n",
       "      <td>39.43</td>\n",
       "      <td>92300.0</td>\n",
       "    </tr>\n",
       "    <tr>\n",
       "      <th>19473</th>\n",
       "      <td>1.8672</td>\n",
       "      <td>1860.0</td>\n",
       "      <td>0.219892</td>\n",
       "      <td>349.0</td>\n",
       "      <td>409.0</td>\n",
       "      <td>18.0</td>\n",
       "      <td>2.123209</td>\n",
       "      <td>-121.32</td>\n",
       "      <td>39.43</td>\n",
       "      <td>84700.0</td>\n",
       "    </tr>\n",
       "    <tr>\n",
       "      <th>19474</th>\n",
       "      <td>2.3886</td>\n",
       "      <td>2785.0</td>\n",
       "      <td>0.221185</td>\n",
       "      <td>530.0</td>\n",
       "      <td>616.0</td>\n",
       "      <td>16.0</td>\n",
       "      <td>2.616981</td>\n",
       "      <td>-121.24</td>\n",
       "      <td>39.37</td>\n",
       "      <td>89400.0</td>\n",
       "    </tr>\n",
       "  </tbody>\n",
       "</table>\n",
       "<p>19475 rows × 10 columns</p>\n",
       "</div>"
      ],
      "text/plain": [
       "       median_income  total_rooms  bedrooms_per_room  households  \\\n",
       "0             8.3252        880.0           0.146591       126.0   \n",
       "1             8.3014       7099.0           0.155797      1138.0   \n",
       "2             7.2574       1467.0           0.129516       177.0   \n",
       "3             5.6431       1274.0           0.184458       219.0   \n",
       "4             3.8462       1627.0           0.172096       259.0   \n",
       "...              ...          ...                ...         ...   \n",
       "19470         1.5603       1665.0           0.224625       330.0   \n",
       "19471         2.5568        697.0           0.215208       114.0   \n",
       "19472         1.7000       2254.0           0.215173       433.0   \n",
       "19473         1.8672       1860.0           0.219892       349.0   \n",
       "19474         2.3886       2785.0           0.221185       530.0   \n",
       "\n",
       "       total_bedrooms  housing_median_age  population_per_household  \\\n",
       "0               129.0                41.0                  2.555556   \n",
       "1              1106.0                21.0                  2.109842   \n",
       "2               190.0                52.0                  2.802260   \n",
       "3               235.0                52.0                  2.547945   \n",
       "4               280.0                52.0                  2.181467   \n",
       "...               ...                 ...                       ...   \n",
       "19470           374.0                25.0                  2.560606   \n",
       "19471           150.0                18.0                  3.122807   \n",
       "19472           485.0                17.0                  2.325635   \n",
       "19473           409.0                18.0                  2.123209   \n",
       "19474           616.0                16.0                  2.616981   \n",
       "\n",
       "       longitude  latitude  median_house_value  \n",
       "0        -122.23     37.88            452600.0  \n",
       "1        -122.22     37.86            358500.0  \n",
       "2        -122.24     37.85            352100.0  \n",
       "3        -122.25     37.85            341300.0  \n",
       "4        -122.25     37.85            342200.0  \n",
       "...          ...       ...                 ...  \n",
       "19470    -121.09     39.48             78100.0  \n",
       "19471    -121.21     39.49             77100.0  \n",
       "19472    -121.22     39.43             92300.0  \n",
       "19473    -121.32     39.43             84700.0  \n",
       "19474    -121.24     39.37             89400.0  \n",
       "\n",
       "[19475 rows x 10 columns]"
      ]
     },
     "execution_count": 52,
     "metadata": {},
     "output_type": "execute_result"
    }
   ],
   "source": [
    "#Dropping the variable 'ocean_proximity' in our data\n",
    "boston.drop(columns=['ocean_proximity'], axis=1, inplace=True)\n",
    "boston"
   ]
  },
  {
   "cell_type": "code",
   "execution_count": 53,
   "metadata": {
    "colab": {
     "base_uri": "https://localhost:8080/"
    },
    "id": "adhnwTOT6NDc",
    "outputId": "604aa6b3-5841-4f80-d3b9-44844bab6446"
   },
   "outputs": [
    {
     "name": "stdout",
     "output_type": "stream",
     "text": [
      "(19475, 5)\n",
      "(19475, 10)\n"
     ]
    }
   ],
   "source": [
    "# Verifying if really their shapes match before concatenation \n",
    "print(OneHotEncoder.shape)\n",
    "print(boston.shape)"
   ]
  },
  {
   "cell_type": "code",
   "execution_count": 54,
   "metadata": {
    "colab": {
     "base_uri": "https://localhost:8080/",
     "height": 456
    },
    "id": "s5wYIC3f6NDk",
    "outputId": "9bb97091-307b-43bc-92ec-f322bd40462e",
    "scrolled": false
   },
   "outputs": [
    {
     "data": {
      "text/html": [
       "<div>\n",
       "<style scoped>\n",
       "    .dataframe tbody tr th:only-of-type {\n",
       "        vertical-align: middle;\n",
       "    }\n",
       "\n",
       "    .dataframe tbody tr th {\n",
       "        vertical-align: top;\n",
       "    }\n",
       "\n",
       "    .dataframe thead th {\n",
       "        text-align: right;\n",
       "    }\n",
       "</style>\n",
       "<table border=\"1\" class=\"dataframe\">\n",
       "  <thead>\n",
       "    <tr style=\"text-align: right;\">\n",
       "      <th></th>\n",
       "      <th>median_income</th>\n",
       "      <th>total_rooms</th>\n",
       "      <th>bedrooms_per_room</th>\n",
       "      <th>households</th>\n",
       "      <th>total_bedrooms</th>\n",
       "      <th>housing_median_age</th>\n",
       "      <th>population_per_household</th>\n",
       "      <th>longitude</th>\n",
       "      <th>latitude</th>\n",
       "      <th>median_house_value</th>\n",
       "      <th>&lt;1H OCEAN</th>\n",
       "      <th>INLAND</th>\n",
       "      <th>NEAR OCEAN</th>\n",
       "      <th>NEAR BAY</th>\n",
       "      <th>ISLAND</th>\n",
       "    </tr>\n",
       "  </thead>\n",
       "  <tbody>\n",
       "    <tr>\n",
       "      <th>0</th>\n",
       "      <td>8.3252</td>\n",
       "      <td>880.0</td>\n",
       "      <td>0.146591</td>\n",
       "      <td>126.0</td>\n",
       "      <td>129.0</td>\n",
       "      <td>41.0</td>\n",
       "      <td>2.555556</td>\n",
       "      <td>-122.23</td>\n",
       "      <td>37.88</td>\n",
       "      <td>452600.0</td>\n",
       "      <td>0.0</td>\n",
       "      <td>0.0</td>\n",
       "      <td>0.0</td>\n",
       "      <td>1.0</td>\n",
       "      <td>0.0</td>\n",
       "    </tr>\n",
       "    <tr>\n",
       "      <th>1</th>\n",
       "      <td>8.3014</td>\n",
       "      <td>7099.0</td>\n",
       "      <td>0.155797</td>\n",
       "      <td>1138.0</td>\n",
       "      <td>1106.0</td>\n",
       "      <td>21.0</td>\n",
       "      <td>2.109842</td>\n",
       "      <td>-122.22</td>\n",
       "      <td>37.86</td>\n",
       "      <td>358500.0</td>\n",
       "      <td>0.0</td>\n",
       "      <td>0.0</td>\n",
       "      <td>0.0</td>\n",
       "      <td>1.0</td>\n",
       "      <td>0.0</td>\n",
       "    </tr>\n",
       "    <tr>\n",
       "      <th>2</th>\n",
       "      <td>7.2574</td>\n",
       "      <td>1467.0</td>\n",
       "      <td>0.129516</td>\n",
       "      <td>177.0</td>\n",
       "      <td>190.0</td>\n",
       "      <td>52.0</td>\n",
       "      <td>2.802260</td>\n",
       "      <td>-122.24</td>\n",
       "      <td>37.85</td>\n",
       "      <td>352100.0</td>\n",
       "      <td>0.0</td>\n",
       "      <td>0.0</td>\n",
       "      <td>0.0</td>\n",
       "      <td>1.0</td>\n",
       "      <td>0.0</td>\n",
       "    </tr>\n",
       "    <tr>\n",
       "      <th>3</th>\n",
       "      <td>5.6431</td>\n",
       "      <td>1274.0</td>\n",
       "      <td>0.184458</td>\n",
       "      <td>219.0</td>\n",
       "      <td>235.0</td>\n",
       "      <td>52.0</td>\n",
       "      <td>2.547945</td>\n",
       "      <td>-122.25</td>\n",
       "      <td>37.85</td>\n",
       "      <td>341300.0</td>\n",
       "      <td>0.0</td>\n",
       "      <td>0.0</td>\n",
       "      <td>0.0</td>\n",
       "      <td>1.0</td>\n",
       "      <td>0.0</td>\n",
       "    </tr>\n",
       "    <tr>\n",
       "      <th>4</th>\n",
       "      <td>3.8462</td>\n",
       "      <td>1627.0</td>\n",
       "      <td>0.172096</td>\n",
       "      <td>259.0</td>\n",
       "      <td>280.0</td>\n",
       "      <td>52.0</td>\n",
       "      <td>2.181467</td>\n",
       "      <td>-122.25</td>\n",
       "      <td>37.85</td>\n",
       "      <td>342200.0</td>\n",
       "      <td>0.0</td>\n",
       "      <td>0.0</td>\n",
       "      <td>0.0</td>\n",
       "      <td>1.0</td>\n",
       "      <td>0.0</td>\n",
       "    </tr>\n",
       "    <tr>\n",
       "      <th>...</th>\n",
       "      <td>...</td>\n",
       "      <td>...</td>\n",
       "      <td>...</td>\n",
       "      <td>...</td>\n",
       "      <td>...</td>\n",
       "      <td>...</td>\n",
       "      <td>...</td>\n",
       "      <td>...</td>\n",
       "      <td>...</td>\n",
       "      <td>...</td>\n",
       "      <td>...</td>\n",
       "      <td>...</td>\n",
       "      <td>...</td>\n",
       "      <td>...</td>\n",
       "      <td>...</td>\n",
       "    </tr>\n",
       "    <tr>\n",
       "      <th>19470</th>\n",
       "      <td>1.5603</td>\n",
       "      <td>1665.0</td>\n",
       "      <td>0.224625</td>\n",
       "      <td>330.0</td>\n",
       "      <td>374.0</td>\n",
       "      <td>25.0</td>\n",
       "      <td>2.560606</td>\n",
       "      <td>-121.09</td>\n",
       "      <td>39.48</td>\n",
       "      <td>78100.0</td>\n",
       "      <td>0.0</td>\n",
       "      <td>1.0</td>\n",
       "      <td>0.0</td>\n",
       "      <td>0.0</td>\n",
       "      <td>0.0</td>\n",
       "    </tr>\n",
       "    <tr>\n",
       "      <th>19471</th>\n",
       "      <td>2.5568</td>\n",
       "      <td>697.0</td>\n",
       "      <td>0.215208</td>\n",
       "      <td>114.0</td>\n",
       "      <td>150.0</td>\n",
       "      <td>18.0</td>\n",
       "      <td>3.122807</td>\n",
       "      <td>-121.21</td>\n",
       "      <td>39.49</td>\n",
       "      <td>77100.0</td>\n",
       "      <td>0.0</td>\n",
       "      <td>1.0</td>\n",
       "      <td>0.0</td>\n",
       "      <td>0.0</td>\n",
       "      <td>0.0</td>\n",
       "    </tr>\n",
       "    <tr>\n",
       "      <th>19472</th>\n",
       "      <td>1.7000</td>\n",
       "      <td>2254.0</td>\n",
       "      <td>0.215173</td>\n",
       "      <td>433.0</td>\n",
       "      <td>485.0</td>\n",
       "      <td>17.0</td>\n",
       "      <td>2.325635</td>\n",
       "      <td>-121.22</td>\n",
       "      <td>39.43</td>\n",
       "      <td>92300.0</td>\n",
       "      <td>0.0</td>\n",
       "      <td>1.0</td>\n",
       "      <td>0.0</td>\n",
       "      <td>0.0</td>\n",
       "      <td>0.0</td>\n",
       "    </tr>\n",
       "    <tr>\n",
       "      <th>19473</th>\n",
       "      <td>1.8672</td>\n",
       "      <td>1860.0</td>\n",
       "      <td>0.219892</td>\n",
       "      <td>349.0</td>\n",
       "      <td>409.0</td>\n",
       "      <td>18.0</td>\n",
       "      <td>2.123209</td>\n",
       "      <td>-121.32</td>\n",
       "      <td>39.43</td>\n",
       "      <td>84700.0</td>\n",
       "      <td>0.0</td>\n",
       "      <td>1.0</td>\n",
       "      <td>0.0</td>\n",
       "      <td>0.0</td>\n",
       "      <td>0.0</td>\n",
       "    </tr>\n",
       "    <tr>\n",
       "      <th>19474</th>\n",
       "      <td>2.3886</td>\n",
       "      <td>2785.0</td>\n",
       "      <td>0.221185</td>\n",
       "      <td>530.0</td>\n",
       "      <td>616.0</td>\n",
       "      <td>16.0</td>\n",
       "      <td>2.616981</td>\n",
       "      <td>-121.24</td>\n",
       "      <td>39.37</td>\n",
       "      <td>89400.0</td>\n",
       "      <td>0.0</td>\n",
       "      <td>1.0</td>\n",
       "      <td>0.0</td>\n",
       "      <td>0.0</td>\n",
       "      <td>0.0</td>\n",
       "    </tr>\n",
       "  </tbody>\n",
       "</table>\n",
       "<p>19475 rows × 15 columns</p>\n",
       "</div>"
      ],
      "text/plain": [
       "       median_income  total_rooms  bedrooms_per_room  households  \\\n",
       "0             8.3252        880.0           0.146591       126.0   \n",
       "1             8.3014       7099.0           0.155797      1138.0   \n",
       "2             7.2574       1467.0           0.129516       177.0   \n",
       "3             5.6431       1274.0           0.184458       219.0   \n",
       "4             3.8462       1627.0           0.172096       259.0   \n",
       "...              ...          ...                ...         ...   \n",
       "19470         1.5603       1665.0           0.224625       330.0   \n",
       "19471         2.5568        697.0           0.215208       114.0   \n",
       "19472         1.7000       2254.0           0.215173       433.0   \n",
       "19473         1.8672       1860.0           0.219892       349.0   \n",
       "19474         2.3886       2785.0           0.221185       530.0   \n",
       "\n",
       "       total_bedrooms  housing_median_age  population_per_household  \\\n",
       "0               129.0                41.0                  2.555556   \n",
       "1              1106.0                21.0                  2.109842   \n",
       "2               190.0                52.0                  2.802260   \n",
       "3               235.0                52.0                  2.547945   \n",
       "4               280.0                52.0                  2.181467   \n",
       "...               ...                 ...                       ...   \n",
       "19470           374.0                25.0                  2.560606   \n",
       "19471           150.0                18.0                  3.122807   \n",
       "19472           485.0                17.0                  2.325635   \n",
       "19473           409.0                18.0                  2.123209   \n",
       "19474           616.0                16.0                  2.616981   \n",
       "\n",
       "       longitude  latitude  median_house_value  <1H OCEAN  INLAND  NEAR OCEAN  \\\n",
       "0        -122.23     37.88            452600.0        0.0     0.0         0.0   \n",
       "1        -122.22     37.86            358500.0        0.0     0.0         0.0   \n",
       "2        -122.24     37.85            352100.0        0.0     0.0         0.0   \n",
       "3        -122.25     37.85            341300.0        0.0     0.0         0.0   \n",
       "4        -122.25     37.85            342200.0        0.0     0.0         0.0   \n",
       "...          ...       ...                 ...        ...     ...         ...   \n",
       "19470    -121.09     39.48             78100.0        0.0     1.0         0.0   \n",
       "19471    -121.21     39.49             77100.0        0.0     1.0         0.0   \n",
       "19472    -121.22     39.43             92300.0        0.0     1.0         0.0   \n",
       "19473    -121.32     39.43             84700.0        0.0     1.0         0.0   \n",
       "19474    -121.24     39.37             89400.0        0.0     1.0         0.0   \n",
       "\n",
       "       NEAR BAY  ISLAND  \n",
       "0           1.0     0.0  \n",
       "1           1.0     0.0  \n",
       "2           1.0     0.0  \n",
       "3           1.0     0.0  \n",
       "4           1.0     0.0  \n",
       "...         ...     ...  \n",
       "19470       0.0     0.0  \n",
       "19471       0.0     0.0  \n",
       "19472       0.0     0.0  \n",
       "19473       0.0     0.0  \n",
       "19474       0.0     0.0  \n",
       "\n",
       "[19475 rows x 15 columns]"
      ]
     },
     "execution_count": 54,
     "metadata": {},
     "output_type": "execute_result"
    }
   ],
   "source": [
    "#concatenating boston and OneHotEncoder\n",
    "boston_prep = pd.concat([boston, OneHotEncoder], axis=1)\n",
    "boston_prep\n"
   ]
  },
  {
   "cell_type": "code",
   "execution_count": 181,
   "metadata": {
    "colab": {
     "base_uri": "https://localhost:8080/"
    },
    "id": "VwZqligl6NDm",
    "outputId": "901e0e22-aca0-4ef3-89a2-a1d95106a0d5"
   },
   "outputs": [
    {
     "data": {
      "text/plain": [
       "<matplotlib.axes._subplots.AxesSubplot at 0x7fd5837e2130>"
      ]
     },
     "execution_count": 181,
     "metadata": {},
     "output_type": "execute_result"
    },
    {
     "data": {
      "image/png": "[encoded data removed]",
      "text/plain": [
       "<Figure size 864x288 with 2 Axes>"
      ]
     },
     "metadata": {
      "needs_background": "light"
     },
     "output_type": "display_data"
    }
   ],
   "source": [
    "#Again, making sure after concatenating that they are no missing values \n",
    "plt.figure(figsize=(12,4))\n",
    "sns.heatmap(boston_prep.isna(), cmap='YlGnBu')"
   ]
  },
  {
   "cell_type": "markdown",
   "metadata": {
    "id": "lBsgXLMx6NDo"
   },
   "source": [
    "## Modelling"
   ]
  },
  {
   "cell_type": "markdown",
   "metadata": {
    "id": "AiSHiZZP6NDp"
   },
   "source": [
    "- **learning curves**: \n",
    "    - Learning curves of model performance on the train and validation datasets can be used to diagnose an underfit, overfit, or well-fit model.\n",
    "\n",
    "- **Grid search** \n",
    "     - performs a combination of hyperparameter tuning in order to determine the optimal combination values for a given model.\n",
    "     - The grid search approach is fine when you are exploring relatively few combinations\n",
    "\n",
    "- **Randomized Search** \n",
    "     - Can be used in much the same way as the GridSearchCV , but instead of trying out all possible combinations , it evaluates a given number of random combinations by selecting a random value for each hyperparameter at every iteration.\n",
    "\n",
    "\n",
    "\n",
    "- **Regression Evaluation Metrics**\n",
    "\n",
    "  - <i>Mean Absolute Error (MAE)</i>:\n",
    "  \n",
    "      - is the mean of the absolute value of the errors\n",
    "      - sometimes it is called the Manhattan norm (l1 norm).\n",
    "      - Mathematical Formula :   $MAE(X,h)=\\frac{1}{m}\\sum\\limits_{i=1}^{m}|h(x^{i})-y^{i}|$ \n",
    "  \n",
    "  - <i> Mean Squared Error (MSE)</i>: \n",
    "      - is the mean of the squared errors\n",
    "      - Mathematical Formula:   $MSE(X,h)=\\frac{1}{m}\\sum\\limits_{i=1}^{m}(h(x^{i})-y^{i})^{2}$\n",
    "  \n",
    "  - <i>Root Mean Squared Error (RMSE)</i>:\n",
    "       - is the square root of the mean of the squared errors \n",
    "       - corresponds to the Euclidian norm (l2 norm)\n",
    "       - RMSE is more sensitive to outliers than the MAE\n",
    "       - RMSE is interpretable in the \"y\" units\n",
    "       - Mathematical Formula: :  $RMSE(X,h)=\\sqrt{ \\frac{1}{m}\\sum\\limits_{i=1}^{m}(h(x^{i})-y^{i})^{2}}$ \n",
    "  \n",
    "  - <i>Coefficient of determination (R2)</i>:\n",
    "       - It is used to check how well-observed results are reproduced by the model, depending on the ratio of total deviation of results described by the model.\n",
    "       - the value of R2 range from 0 to 1 \n",
    "           - A model with an R2 equal 1 perfetly predicts the target variable, whereas a model with R2 of 0 always fails to predict the target variables\n",
    "       - Mathematical Formula : $R^{2}= 1 - \\frac{SS_{res}}{SS_{tot}}$   Where,\n",
    "       \n",
    "            - $SS_{res}$ is the sum of squares of the residual errors between the actual y and the predicated y.\n",
    "            - it's representing the ML algorithm error score \n",
    "            - $SS_{tot}$ is the total sum of the errors (the sum of the squared deviation of the actual y from the                centre)\n",
    "            - it is representing the Mean Model"
   ]
  },
  {
   "cell_type": "code",
   "execution_count": 56,
   "metadata": {
    "id": "gSg3Kmqa6NDp"
   },
   "outputs": [],
   "source": [
    "boston = boston_prep.copy()"
   ]
  },
  {
   "cell_type": "code",
   "execution_count": 57,
   "metadata": {
    "id": "nI7xUEe26NDv"
   },
   "outputs": [],
   "source": [
    "#Importing the necessary libraries for modeling\n",
    "\n",
    "from sklearn.model_selection import cross_val_score, learning_curve, RandomizedSearchCV, GridSearchCV\n",
    "from sklearn.model_selection import train_test_split\n",
    "from sklearn.metrics import r2_score, mean_squared_error, mean_absolute_error\n",
    "\n",
    "from sklearn.feature_selection import SelectKBest, f_classif, chi2\n",
    "from sklearn.pipeline import make_pipeline, Pipeline\n",
    "from sklearn.preprocessing import MinMaxScaler, StandardScaler"
   ]
  },
  {
   "cell_type": "markdown",
   "metadata": {
    "id": "o6AM8Rrx6NDx"
   },
   "source": [
    "#### Creating functions to use them in modeling"
   ]
  },
  {
   "cell_type": "code",
   "execution_count": 58,
   "metadata": {
    "id": "sYZeNEo26NDx"
   },
   "outputs": [],
   "source": [
    "def train_test_split_(data ,target_var) :\n",
    "\n",
    "    X = data.drop([target_var], axis=1)\n",
    "    y = data[target_var]\n",
    "\n",
    "    X_train, X_test, y_train, y_test = train_test_split(X, y, test_size=0.2, random_state=0 )\n",
    "    return (X_train, X_test, y_train, y_test)\n",
    "\n",
    "\n",
    "\n",
    "def model_val_scores(mod, X_train, y_train, cv=5):\n",
    "        \n",
    "    score_val = []\n",
    "    standard_deviation = []\n",
    "        \n",
    "    scores = cross_val_score(mod, X_train, y_train, cv=5, scoring='neg_mean_squared_error')\n",
    "    \n",
    "    rmse_scores = np.sqrt(-scores)\n",
    "    scores_mean = rmse_scores.mean()\n",
    "    scores_std = rmse_scores.std()\n",
    "        \n",
    "    score_val.append(scores_mean)\n",
    "    standard_deviation.append(scores_std)\n",
    "    \n",
    "    return pd.DataFrame(data=[score_val, standard_deviation], index = ['scores_val', 'scores_std']) \n",
    "\n",
    "\n",
    "def learning_curves(mod, X_train, y_train , cv=5):\n",
    "    \n",
    "    N , train_score, val_score = learning_curve(mod, X_train, y_train,  cv=5 , train_sizes=np.linspace(0.2 ,1.0, 5))\n",
    "\n",
    "    plt.plot(N, train_score.mean(axis=1), label='Train')\n",
    "    plt.plot(N, val_score.mean(axis=1), label='Validation')\n",
    "    plt.xlabel('train size')\n",
    "    plt.legend()\n",
    "    \n",
    "\n",
    "#For tuning params and find the best params where the model performs well\n",
    "def RandomizeSearchCV_(model, param_grid, X_train, y_train ) :\n",
    "    \n",
    "    randomSCV = RandomizedSearchCV(model, param_grid, n_iter=30, cv=5, scoring='neg_mean_squared_error', random_state=42)\n",
    "\n",
    "    randomSCV.fit(X_train, y_train)\n",
    "    model_best_params = randomSCV.best_estimator_\n",
    "    \n",
    "    print('best score :', randomSCV.best_score_ )\n",
    "    print('best params :', randomSCV.best_params_ )\n",
    "    \n",
    "    return model_best_params\n",
    "\n",
    "def GridSearchCV_(mod, param_grid, X_train, y_train):\n",
    "    grid = GridSearchCV(estimator=mod, param_grid=param_grid, cv= 5, scoring='neg_mean_squared_error')\n",
    "    \n",
    "    grid.fit(X_train, y_train)\n",
    "    model_best_params = grid.best_estimator_\n",
    "    \n",
    "    print('best score :', grid.best_score_ )\n",
    "    print('best params :', grid.best_params_ )\n",
    "    \n",
    "    return model_best_params\n",
    "\n",
    "\n",
    "def performance_metrics(y_test, y_pred):\n",
    "    \n",
    "    r2_scores  = []\n",
    "    mae_value  = []\n",
    "    mse_value  = []\n",
    "    rmse_value = []\n",
    "   \n",
    "    scores = r2_score(y_test, y_pred)\n",
    "    mae = mean_absolute_error(y_test, y_pred)\n",
    "    mse = mean_squared_error(y_test, y_pred)\n",
    "    rmse = np.sqrt(mse)\n",
    "    \n",
    "    r2_scores.append(scores)\n",
    "    mae_value.append(mae)\n",
    "    mse_value.append(mse)\n",
    "    rmse_value.append(rmse)\n",
    "    \n",
    "    metrics_dataframe=pd.DataFrame(data= [r2_scores, mae_value, mse_value, rmse_value],\n",
    "                                index=['r2_score','MAE','MSE','RMSE'])\n",
    "    return metrics_dataframe.T\n"
   ]
  },
  {
   "cell_type": "markdown",
   "metadata": {
    "id": "uhHzHRUP6NDz"
   },
   "source": [
    "#### Splitting the data "
   ]
  },
  {
   "cell_type": "code",
   "execution_count": 59,
   "metadata": {
    "colab": {
     "base_uri": "https://localhost:8080/"
    },
    "id": "SEmRnVyr6ND0",
    "outputId": "b571f2c1-dc97-4b10-d90a-4a39e8186300"
   },
   "outputs": [
    {
     "name": "stdout",
     "output_type": "stream",
     "text": [
      "X_train : (15580, 14)\n",
      "X_test : (3895, 14)\n",
      "y_train : (15580,)\n",
      "y_test : (3895,)\n"
     ]
    }
   ],
   "source": [
    "X_train, X_test, y_train, y_test = train_test_split_(boston, 'median_house_value')\n",
    "\n",
    "print('X_train :', X_train.shape)\n",
    "print('X_test :', X_test.shape)\n",
    "print('y_train :', y_train.shape)\n",
    "print('y_test :', y_test.shape)"
   ]
  },
  {
   "cell_type": "markdown",
   "metadata": {
    "id": "TD3d1arq6ND2"
   },
   "source": [
    "# Linear Models"
   ]
  },
  {
   "cell_type": "markdown",
   "metadata": {
    "id": "pCewymCn6ND3"
   },
   "source": [
    "- linear Regression model makes a prediction by simply computing a weighted sum of the input features, plus a constant called the bias term (also called the intercept term)\n",
    "- Linear Regression models use two different ways to compute the model parameters that best fit the model to the training set :\n",
    "    - Using a direct “**closed-form**” equation that directly computes the model parameters that minimize the cost function over the training set , like the Normal Equation\n",
    "    - Using an **iterative optimization approach** that gradually tweaks the model parameters in order to minimize the cost function over the training set, like  Gradient Descent (GD)\n",
    "        - Some few variants of Gradient Descent : Batch GD, Mini-batch GD, and Stochastic GD\n",
    "\n",
    "- Linear Assumption\n",
    "    - **Linear Assumption** :Linear regression assumes that the relationship between our input and output is linear, if it is not the case we may need to transform data to make the relationship linear (e.g. log transform for an exponential )\n",
    "    - **Remove Noise** : Linear regression assumes that your input and output variables are not noisy\n",
    "    - **Remove Collinearity** :Linear regression will over-fit your data when you have highly correlated input variables\n",
    "    - **Gaussian Distributions** : Linear regression will make more reliable predictions if your input and output variables have a Gaussian distribution. You may get some benefit using transforms (e.g. log or BoxCox) on you variables to make their distribution more Gaussian looking.\n",
    "    - **Rescale Inputs** : Linear regression will often make more reliable predictions if you rescale input variables using standardization or normalization.\n"
   ]
  },
  {
   "cell_type": "markdown",
   "metadata": {
    "id": "LtuiL_iM6ND3"
   },
   "source": [
    "### LinearRegression"
   ]
  },
  {
   "cell_type": "markdown",
   "metadata": {
    "id": "GQAwhUd_6ND3"
   },
   "source": [
    "- Linear Regression model uses the Normal Equation which directly computes the model parameters that best fit the model to the training set (the model parameters that minimize the cost function over the training set)\n",
    "- Linear Regression model equation :\n",
    "  $\\hat{Y} = \\theta_{0} + \\sum \\limits _{i=1} ^{n} X_{i}\\theta_{i} $\n",
    "  \n",
    "   - ŷ is the predicted value\n",
    "   - n is the number of features.\n",
    "   - $X_{i}$ is the $i^{th}$ feature value.\n",
    "   - $\\theta$ is the model parameter (including the bias term $\\theta_{θ}$  and the feature weights $\\theta_{1}$ , $\\theta_{2}$ ,..., $\\theta_{3}$ ).\n",
    "\n",
    "\n",
    "Normal Equation : \n",
    "\n",
    "- The Normal Equation : $\\hat{\\theta} = (X^{T}.X)^{-1}.X^{T}.y $\n",
    "   - $\\hat{\\theta}$ is the value of θ that minimizes the cost function\n",
    "   - y is the vector of target values containing $y_{1}$ to $y_{m}$\n",
    "   - $X^{T}.X$ is the dot product of $X^{T}$ and $X$\n",
    "   - $X^{T}$ is the transpose of $X$ \n",
    "- The Normal Equation gets very slow when the number of features grows large \n",
    "- The Normal Equation handles large training sets efficiently, provided they can fit in memory\n",
    "- Feature scaling is not necessary\n",
    "- Predictions are very fast\n",
    "\n"
   ]
  },
  {
   "cell_type": "code",
   "execution_count": 60,
   "metadata": {
    "id": "ygdbwIRw6ND4"
   },
   "outputs": [],
   "source": [
    "from sklearn.linear_model import LinearRegression"
   ]
  },
  {
   "cell_type": "code",
   "execution_count": 61,
   "metadata": {
    "id": "FPo-LWMk6ND6"
   },
   "outputs": [],
   "source": [
    "# n_jobs=-1 tells Scikit-Learn to use all available cores\n",
    "LR_model = make_pipeline(LinearRegression(n_jobs=-1))"
   ]
  },
  {
   "cell_type": "code",
   "execution_count": 62,
   "metadata": {
    "id": "oGYUa6kW6ND8",
    "outputId": "c392ee8a-c3f3-48ed-cd16-2d6acc239a25"
   },
   "outputs": [
    {
     "data": {
      "text/html": [
       "<div>\n",
       "<style scoped>\n",
       "    .dataframe tbody tr th:only-of-type {\n",
       "        vertical-align: middle;\n",
       "    }\n",
       "\n",
       "    .dataframe tbody tr th {\n",
       "        vertical-align: top;\n",
       "    }\n",
       "\n",
       "    .dataframe thead th {\n",
       "        text-align: right;\n",
       "    }\n",
       "</style>\n",
       "<table border=\"1\" class=\"dataframe\">\n",
       "  <thead>\n",
       "    <tr style=\"text-align: right;\">\n",
       "      <th></th>\n",
       "      <th>0</th>\n",
       "    </tr>\n",
       "  </thead>\n",
       "  <tbody>\n",
       "    <tr>\n",
       "      <th>scores_val</th>\n",
       "      <td>61980.192515</td>\n",
       "    </tr>\n",
       "    <tr>\n",
       "      <th>scores_std</th>\n",
       "      <td>1095.978694</td>\n",
       "    </tr>\n",
       "  </tbody>\n",
       "</table>\n",
       "</div>"
      ],
      "text/plain": [
       "                       0\n",
       "scores_val  61980.192515\n",
       "scores_std   1095.978694"
      ]
     },
     "execution_count": 62,
     "metadata": {},
     "output_type": "execute_result"
    }
   ],
   "source": [
    "model_val_scores(LR_model, X_train , y_train)"
   ]
  },
  {
   "cell_type": "code",
   "execution_count": 63,
   "metadata": {
    "id": "ojk_gOcO6NEG",
    "outputId": "6c7fcfda-b7db-4a2f-e689-b4fd05b8b0a9"
   },
   "outputs": [
    {
     "data": {
      "image/png": "[encoded data removed]",
      "text/plain": [
       "<Figure size 432x288 with 1 Axes>"
      ]
     },
     "metadata": {
      "needs_background": "light"
     },
     "output_type": "display_data"
    }
   ],
   "source": [
    "learning_curves(LR_model, X_train, y_train)"
   ]
  },
  {
   "cell_type": "markdown",
   "metadata": {
    "id": "_813UfPf6NEI"
   },
   "source": [
    "<i> we will assume that we are looking at a Maximizing metric, which means that bigger scores on the y-axis indicate more or better learning.</i>\n",
    " \n",
    "- The training loss remains flat over training size\n",
    "- The validation loss decreases to a point and begins increasing again then flattening in the end with the training score in the same value.\n",
    "- In this case, We could conclude that adding more training data points won’t lead to significantly better model."
   ]
  },
  {
   "cell_type": "markdown",
   "metadata": {
    "id": "9bmzQmC26NEI"
   },
   "source": [
    "- Let's try to feed better features to the learning algorithm and see if we could obtain better performances than before \n",
    "\n",
    "> Based on the correlation matrix and the histograms above :\n",
    "   - The most correlated variables with the target are median income, total rooms and bedrooms per room\n",
    "   - There is no collinearity between those variables (the correlation between those variables against each other is not too strong they don't exceed |0.7|)\n",
    "   - Total rooms and bedrooms per room variables follow a Normal Distribution\n",
    "   - The Median income variable's distribution is skewed (asymmetrical distributions)"
   ]
  },
  {
   "cell_type": "code",
   "execution_count": 65,
   "metadata": {},
   "outputs": [
    {
     "data": {
      "text/plain": [
       "<matplotlib.axes._subplots.AxesSubplot at 0x7fd580b38f10>"
      ]
     },
     "execution_count": 65,
     "metadata": {},
     "output_type": "execute_result"
    },
    {
     "data": {
      "image/png": "[encoded data removed]",
      "text/plain": [
       "<Figure size 432x288 with 1 Axes>"
      ]
     },
     "metadata": {
      "needs_background": "light"
     },
     "output_type": "display_data"
    }
   ],
   "source": [
    "#Log Transformation :\n",
    "boston['log_median_income'] = np.log(boston['median_income'])\n",
    "\n",
    "sns.distplot(boston['log_median_income'])"
   ]
  },
  {
   "cell_type": "code",
   "execution_count": 69,
   "metadata": {
    "id": "6FZ3LMST6NEJ",
    "outputId": "98e95408-80d7-481c-a3e0-2aa3b966538f"
   },
   "outputs": [],
   "source": [
    "boston_must_corr_vars = boston_prep[['total_rooms','bedrooms_per_room','median_house_value','<1H OCEAN','INLAND','NEAR OCEAN','NEAR BAY','ISLAND']]\n",
    "\n",
    "boston_must_corr_vars['log_median_income'] = boston['log_median_income']\n",
    "\n",
    "#boston_must_corr_vars.head(2)"
   ]
  },
  {
   "cell_type": "code",
   "execution_count": 92,
   "metadata": {},
   "outputs": [],
   "source": [
    "X_train_corr, X_test_corr, y_train_corr, y_test_corr = train_test_split_(boston_must_corr_vars,'median_house_value' )"
   ]
  },
  {
   "cell_type": "code",
   "execution_count": 75,
   "metadata": {
    "id": "WV-4w2ZA6NEN"
   },
   "outputs": [],
   "source": [
    "#Training and testing the model\n",
    "LR_model.fit(X_train_corr, y_train_corr)\n",
    "\n",
    "y_pred = LR_model.predict(X_test_corr)"
   ]
  },
  {
   "cell_type": "code",
   "execution_count": 77,
   "metadata": {
    "id": "pMJuXmc56NES",
    "outputId": "8d41e088-e357-4364-ed33-5a6cbe273b13"
   },
   "outputs": [
    {
     "data": {
      "text/html": [
       "<div>\n",
       "<style scoped>\n",
       "    .dataframe tbody tr th:only-of-type {\n",
       "        vertical-align: middle;\n",
       "    }\n",
       "\n",
       "    .dataframe tbody tr th {\n",
       "        vertical-align: top;\n",
       "    }\n",
       "\n",
       "    .dataframe thead th {\n",
       "        text-align: right;\n",
       "    }\n",
       "</style>\n",
       "<table border=\"1\" class=\"dataframe\">\n",
       "  <thead>\n",
       "    <tr style=\"text-align: right;\">\n",
       "      <th></th>\n",
       "      <th>r2_score</th>\n",
       "      <th>MAE</th>\n",
       "      <th>MSE</th>\n",
       "      <th>RMSE</th>\n",
       "    </tr>\n",
       "  </thead>\n",
       "  <tbody>\n",
       "    <tr>\n",
       "      <th>0</th>\n",
       "      <td>0.525918</td>\n",
       "      <td>50099.615253</td>\n",
       "      <td>4.520411e+09</td>\n",
       "      <td>67234.001737</td>\n",
       "    </tr>\n",
       "  </tbody>\n",
       "</table>\n",
       "</div>"
      ],
      "text/plain": [
       "   r2_score           MAE           MSE          RMSE\n",
       "0  0.525918  50099.615253  4.520411e+09  67234.001737"
      ]
     },
     "execution_count": 77,
     "metadata": {},
     "output_type": "execute_result"
    }
   ],
   "source": [
    "# Model's performance\n",
    "performance_metrics(y_test_corr, y_pred)"
   ]
  },
  {
   "cell_type": "markdown",
   "metadata": {},
   "source": [
    "- In this case, the linear regression model is unable to generalize new instances, resulting in an increase in generalization error."
   ]
  },
  {
   "cell_type": "markdown",
   "metadata": {
    "id": "Q26MGq1_6NEx"
   },
   "source": [
    "### Regularized Linear Models"
   ]
  },
  {
   "cell_type": "markdown",
   "metadata": {
    "id": "6mJlwYNm6NEx"
   },
   "source": [
    "- For a linear model, regularization is typically achieved by constraining the weights of the model. \n",
    "- We will look at Ridge Regression, Lasso Regression, and Elastic Net, which implement three different ways to constrain the weights."
   ]
  },
  {
   "cell_type": "markdown",
   "metadata": {
    "id": "wp0O6mJR6NEx"
   },
   "source": [
    "#### Ridge Regression"
   ]
  },
  {
   "cell_type": "markdown",
   "metadata": {
    "id": "60vv1Mpp6NEx"
   },
   "source": [
    "- Ridge Regression is a regularized version of Linear Regression\n",
    "- The regularization term equal to : $ \\alpha \\sum \\limits _{i=1} ^{n} \\theta ^{2}_{i}$ is added to the cost function. This forces the algorithm to not only fit the data but also keep the model weights as small as possible\n",
    "- Ridge Regression cost function equation : $J(\\theta) =MSE(\\theta) + \\frac{1}{2} \\alpha \\sum \\limits _{i=1} ^{n} \\theta ^{2}_{i}$\n",
    "- Specifying penalty=\"l2\" in linear regression models like SGD indicates that we want to add a regularization term to the cost function"
   ]
  },
  {
   "cell_type": "code",
   "execution_count": 78,
   "metadata": {
    "id": "AOBQ2vpO6NEy"
   },
   "outputs": [],
   "source": [
    "from sklearn.linear_model import Ridge"
   ]
  },
  {
   "cell_type": "code",
   "execution_count": 95,
   "metadata": {
    "id": "j3M7GoVm6NE0"
   },
   "outputs": [],
   "source": [
    "Ridge_model = make_pipeline(StandardScaler(), Ridge(alpha=1, solver='cholesky'))"
   ]
  },
  {
   "cell_type": "code",
   "execution_count": 96,
   "metadata": {
    "id": "N0XyRUwa6NE5",
    "outputId": "8448c7ce-b94c-4e47-f06a-5a6461884758"
   },
   "outputs": [
    {
     "data": {
      "text/html": [
       "<div>\n",
       "<style scoped>\n",
       "    .dataframe tbody tr th:only-of-type {\n",
       "        vertical-align: middle;\n",
       "    }\n",
       "\n",
       "    .dataframe tbody tr th {\n",
       "        vertical-align: top;\n",
       "    }\n",
       "\n",
       "    .dataframe thead th {\n",
       "        text-align: right;\n",
       "    }\n",
       "</style>\n",
       "<table border=\"1\" class=\"dataframe\">\n",
       "  <thead>\n",
       "    <tr style=\"text-align: right;\">\n",
       "      <th></th>\n",
       "      <th>0</th>\n",
       "    </tr>\n",
       "  </thead>\n",
       "  <tbody>\n",
       "    <tr>\n",
       "      <th>scores_val</th>\n",
       "      <td>61980.083765</td>\n",
       "    </tr>\n",
       "    <tr>\n",
       "      <th>scores_std</th>\n",
       "      <td>1096.697252</td>\n",
       "    </tr>\n",
       "  </tbody>\n",
       "</table>\n",
       "</div>"
      ],
      "text/plain": [
       "                       0\n",
       "scores_val  61980.083765\n",
       "scores_std   1096.697252"
      ]
     },
     "execution_count": 96,
     "metadata": {},
     "output_type": "execute_result"
    }
   ],
   "source": [
    "model_val_scores(Ridge_model, X_train, y_train)"
   ]
  },
  {
   "cell_type": "code",
   "execution_count": 97,
   "metadata": {
    "id": "EgcDNRTq6NE8",
    "outputId": "6825b3e5-3f58-418d-bfe2-86807409dc74"
   },
   "outputs": [
    {
     "data": {
      "image/png": "[encoded data removed]",
      "text/plain": [
       "<Figure size 432x288 with 1 Axes>"
      ]
     },
     "metadata": {
      "needs_background": "light"
     },
     "output_type": "display_data"
    }
   ],
   "source": [
    "learning_curves(Ridge_model, X_train, y_train)"
   ]
  },
  {
   "cell_type": "code",
   "execution_count": 89,
   "metadata": {
    "id": "Fv1z6Hwi6NE-"
   },
   "outputs": [
    {
     "data": {
      "text/plain": [
       "dict_keys(['memory', 'steps', 'verbose', 'standardscaler', 'ridge', 'standardscaler__copy', 'standardscaler__with_mean', 'standardscaler__with_std', 'ridge__alpha', 'ridge__copy_X', 'ridge__fit_intercept', 'ridge__max_iter', 'ridge__normalize', 'ridge__random_state', 'ridge__solver', 'ridge__tol'])"
      ]
     },
     "execution_count": 89,
     "metadata": {},
     "output_type": "execute_result"
    }
   ],
   "source": [
    "Ridge_model.get_params().keys()"
   ]
  },
  {
   "cell_type": "code",
   "execution_count": 98,
   "metadata": {
    "id": "Z16GQ_0x6NE_",
    "outputId": "6b862c56-59a0-4e57-e3e9-6f543dac0eb2"
   },
   "outputs": [
    {
     "name": "stdout",
     "output_type": "stream",
     "text": [
      "best score : -3842720843.211815\n",
      "best params : {'ridge__alpha': 3.601, 'ridge__tol': 1e-05}\n"
     ]
    }
   ],
   "source": [
    "param_grid = {'ridge__alpha':np.arange(0.001, 5, 0.1 ),\n",
    "              'ridge__tol':np.arange(0.00001, 0.1, 0.5) }\n",
    "\n",
    "Ridge_model_best_params = GridSearchCV_(Ridge_model, param_grid , X_train, y_train)"
   ]
  },
  {
   "cell_type": "code",
   "execution_count": 99,
   "metadata": {
    "id": "rSKm6vQz6NFL"
   },
   "outputs": [],
   "source": [
    "Ridge_model_best_params.fit(X_train, y_train)\n",
    "\n",
    "y_pred = Ridge_model_best_params.predict(X_test)"
   ]
  },
  {
   "cell_type": "code",
   "execution_count": 100,
   "metadata": {
    "id": "YtPj4CW56NFM",
    "outputId": "22c924e1-e045-4e63-920b-6023f77d4a9a"
   },
   "outputs": [
    {
     "data": {
      "text/html": [
       "<div>\n",
       "<style scoped>\n",
       "    .dataframe tbody tr th:only-of-type {\n",
       "        vertical-align: middle;\n",
       "    }\n",
       "\n",
       "    .dataframe tbody tr th {\n",
       "        vertical-align: top;\n",
       "    }\n",
       "\n",
       "    .dataframe thead th {\n",
       "        text-align: right;\n",
       "    }\n",
       "</style>\n",
       "<table border=\"1\" class=\"dataframe\">\n",
       "  <thead>\n",
       "    <tr style=\"text-align: right;\">\n",
       "      <th></th>\n",
       "      <th>r2_score</th>\n",
       "      <th>MAE</th>\n",
       "      <th>MSE</th>\n",
       "      <th>RMSE</th>\n",
       "    </tr>\n",
       "  </thead>\n",
       "  <tbody>\n",
       "    <tr>\n",
       "      <th>0</th>\n",
       "      <td>0.602072</td>\n",
       "      <td>45016.974412</td>\n",
       "      <td>3.794272e+09</td>\n",
       "      <td>61597.658742</td>\n",
       "    </tr>\n",
       "  </tbody>\n",
       "</table>\n",
       "</div>"
      ],
      "text/plain": [
       "   r2_score           MAE           MSE          RMSE\n",
       "0  0.602072  45016.974412  3.794272e+09  61597.658742"
      ]
     },
     "execution_count": 100,
     "metadata": {},
     "output_type": "execute_result"
    }
   ],
   "source": [
    "performance_metrics(y_test, y_pred)"
   ]
  },
  {
   "cell_type": "markdown",
   "metadata": {},
   "source": [
    "- Ridge regression model performs better than Linear Regression model"
   ]
  },
  {
   "cell_type": "markdown",
   "metadata": {
    "id": "srZIktA26NFO"
   },
   "source": [
    "####  Lasso Regression"
   ]
  },
  {
   "cell_type": "markdown",
   "metadata": {
    "id": "s1HBf0OB6NFO"
   },
   "source": [
    "- Another regularized version of Linear Regression : just like Ridge Regression, it adds a regularization term to the cost function, but it uses the l1 norm of the weight vector instead of half the square of the l2 norm\n",
    "- Lasso Regression cost function equation : $J(\\theta) =MSE(\\theta) + \\alpha \\sum \\limits _{i=1} ^{n} |\\theta_{i}| $\n",
    "- Lasso Regression automatically performs feature selection \n",
    "- Specifying penalty=\"l1\" in linear regression models like SGD indicates that we want to add a regularization term to the cost function"
   ]
  },
  {
   "cell_type": "code",
   "execution_count": 82,
   "metadata": {
    "id": "py7xaRMN6NFO"
   },
   "outputs": [],
   "source": [
    "from sklearn.linear_model import Lasso"
   ]
  },
  {
   "cell_type": "code",
   "execution_count": 83,
   "metadata": {
    "id": "oAlFtLFf6NFQ"
   },
   "outputs": [],
   "source": [
    "Lasso_model = make_pipeline(StandardScaler(),  Lasso(alpha=0.01, max_iter=10000))"
   ]
  },
  {
   "cell_type": "code",
   "execution_count": 84,
   "metadata": {
    "colab": {
     "base_uri": "https://localhost:8080/",
     "height": 111
    },
    "id": "MRyqN9Vm6NFS",
    "outputId": "0c133b4a-3a23-4368-ea98-aa8b7c9862c9"
   },
   "outputs": [
    {
     "data": {
      "text/html": [
       "<div>\n",
       "<style scoped>\n",
       "    .dataframe tbody tr th:only-of-type {\n",
       "        vertical-align: middle;\n",
       "    }\n",
       "\n",
       "    .dataframe tbody tr th {\n",
       "        vertical-align: top;\n",
       "    }\n",
       "\n",
       "    .dataframe thead th {\n",
       "        text-align: right;\n",
       "    }\n",
       "</style>\n",
       "<table border=\"1\" class=\"dataframe\">\n",
       "  <thead>\n",
       "    <tr style=\"text-align: right;\">\n",
       "      <th></th>\n",
       "      <th>0</th>\n",
       "    </tr>\n",
       "  </thead>\n",
       "  <tbody>\n",
       "    <tr>\n",
       "      <th>scores_val</th>\n",
       "      <td>62959.785997</td>\n",
       "    </tr>\n",
       "    <tr>\n",
       "      <th>scores_std</th>\n",
       "      <td>1269.310940</td>\n",
       "    </tr>\n",
       "  </tbody>\n",
       "</table>\n",
       "</div>"
      ],
      "text/plain": [
       "                       0\n",
       "scores_val  62959.785997\n",
       "scores_std   1269.310940"
      ]
     },
     "execution_count": 84,
     "metadata": {
      "tags": []
     },
     "output_type": "execute_result"
    }
   ],
   "source": [
    "model_val_scores(Lasso_model, X_train, y_train)"
   ]
  },
  {
   "cell_type": "code",
   "execution_count": 85,
   "metadata": {
    "colab": {
     "base_uri": "https://localhost:8080/",
     "height": 279
    },
    "id": "61ytcyWT6NFU",
    "outputId": "f9af1f0b-f2ea-4901-ff31-3b0cf9555e19",
    "scrolled": true
   },
   "outputs": [
    {
     "data": {
      "image/png": "[encoded data removed]",
      "text/plain": [
       "<Figure size 432x288 with 1 Axes>"
      ]
     },
     "metadata": {
      "needs_background": "light",
      "tags": []
     },
     "output_type": "display_data"
    }
   ],
   "source": [
    "learning_curves(Lasso_model, X_train, y_train)"
   ]
  },
  {
   "cell_type": "code",
   "execution_count": 57,
   "metadata": {
    "colab": {
     "base_uri": "https://localhost:8080/"
    },
    "id": "2fQ-WLp66NFV",
    "outputId": "f42f5190-e3a3-4884-f4f1-ba43590522df"
   },
   "outputs": [
    {
     "data": {
      "text/plain": [
       "dict_keys(['memory', 'steps', 'verbose', 'standardscaler', 'lasso', 'standardscaler__copy', 'standardscaler__with_mean', 'standardscaler__with_std', 'lasso__alpha', 'lasso__copy_X', 'lasso__fit_intercept', 'lasso__max_iter', 'lasso__normalize', 'lasso__positive', 'lasso__precompute', 'lasso__random_state', 'lasso__selection', 'lasso__tol', 'lasso__warm_start'])"
      ]
     },
     "execution_count": 57,
     "metadata": {
      "tags": []
     },
     "output_type": "execute_result"
    }
   ],
   "source": [
    "Lasso_model.get_params().keys()"
   ]
  },
  {
   "cell_type": "code",
   "execution_count": 86,
   "metadata": {
    "colab": {
     "base_uri": "https://localhost:8080/"
    },
    "id": "_9Rascpn6NFW",
    "outputId": "31eb27f0-0231-4c8b-e84b-6c3f803ab563",
    "scrolled": true
   },
   "outputs": [
    {
     "name": "stdout",
     "output_type": "stream",
     "text": [
      "best score : -3965545279.214495\n",
      "best params : {'lasso__alpha': 0.0901}\n"
     ]
    }
   ],
   "source": [
    "param_grid = {'lasso__alpha':np.arange(0.0001, 0.1, 0.01)}\n",
    "\n",
    "Lasso_best_params = GridSearchCV_(Lasso_model, param_grid, X_train, y_train)"
   ]
  },
  {
   "cell_type": "code",
   "execution_count": 92,
   "metadata": {
    "id": "jxbZqzN_6NFX"
   },
   "outputs": [],
   "source": [
    "Lasso_best_params.fit(X_train, y_train)\n",
    "\n",
    "y_pred = Lasso_best_params.predict(X_test)"
   ]
  },
  {
   "cell_type": "code",
   "execution_count": 60,
   "metadata": {
    "colab": {
     "base_uri": "https://localhost:8080/",
     "height": 80
    },
    "id": "UHaMo6VS6NFZ",
    "outputId": "b5080d79-2245-43a6-b796-32bb7eaa5ed2"
   },
   "outputs": [
    {
     "data": {
      "text/html": [
       "<div>\n",
       "<style scoped>\n",
       "    .dataframe tbody tr th:only-of-type {\n",
       "        vertical-align: middle;\n",
       "    }\n",
       "\n",
       "    .dataframe tbody tr th {\n",
       "        vertical-align: top;\n",
       "    }\n",
       "\n",
       "    .dataframe thead th {\n",
       "        text-align: right;\n",
       "    }\n",
       "</style>\n",
       "<table border=\"1\" class=\"dataframe\">\n",
       "  <thead>\n",
       "    <tr style=\"text-align: right;\">\n",
       "      <th></th>\n",
       "      <th>r2_score</th>\n",
       "      <th>MAE</th>\n",
       "      <th>MSE</th>\n",
       "      <th>RMSE</th>\n",
       "    </tr>\n",
       "  </thead>\n",
       "  <tbody>\n",
       "    <tr>\n",
       "      <th>0</th>\n",
       "      <td>0.588873</td>\n",
       "      <td>45771.46967</td>\n",
       "      <td>3.920128e+09</td>\n",
       "      <td>62610.924085</td>\n",
       "    </tr>\n",
       "  </tbody>\n",
       "</table>\n",
       "</div>"
      ],
      "text/plain": [
       "   r2_score          MAE           MSE          RMSE\n",
       "0  0.588873  45771.46967  3.920128e+09  62610.924085"
      ]
     },
     "execution_count": 60,
     "metadata": {
      "tags": []
     },
     "output_type": "execute_result"
    }
   ],
   "source": [
    "performance_metrics(y_test, y_pred)"
   ]
  },
  {
   "cell_type": "markdown",
   "metadata": {
    "id": "YFzfeR2g6NFb"
   },
   "source": [
    "### ElasticNet"
   ]
  },
  {
   "cell_type": "markdown",
   "metadata": {
    "id": "A2ZIWnii6NFb"
   },
   "source": [
    "- Elastic Net is a middle ground between Ridge Regression and Lasso Regression\n",
    "- The regularization term is a simple mix of both Ridge and Lasso’s regularization terms, and you can control the mix ratio r\n",
    "    - When r=0 ,Elastic Net is equivalent to Ridge Regression\n",
    "    - When r = 1,Elastic Net is equivalent to Lasso Regression \n",
    "- Elastic Net cost function Equation : $J(\\theta) =MSE(\\theta) + r\\alpha \\sum \\limits _{i=1} ^{n} |\\theta_{i}| + \\frac{1-r}{2} \\alpha \\sum \\limits _{i=1} ^{n} \\theta ^{2}_{i} $"
   ]
  },
  {
   "cell_type": "code",
   "execution_count": 87,
   "metadata": {
    "id": "6ZKIQ-666NFb"
   },
   "outputs": [],
   "source": [
    "from sklearn.linear_model import ElasticNet"
   ]
  },
  {
   "cell_type": "code",
   "execution_count": 88,
   "metadata": {
    "id": "H-qhm3Ww6NFd"
   },
   "outputs": [],
   "source": [
    "ELN_model  = make_pipeline(StandardScaler(), ElasticNet(alpha=0.001, l1_ratio=0.5, max_iter=100000))"
   ]
  },
  {
   "cell_type": "code",
   "execution_count": 89,
   "metadata": {
    "colab": {
     "base_uri": "https://localhost:8080/",
     "height": 111
    },
    "id": "e5QOzBOl6NFe",
    "outputId": "1723f4ff-88d3-4051-a3bd-865548f7d1b4"
   },
   "outputs": [
    {
     "data": {
      "text/html": [
       "<div>\n",
       "<style scoped>\n",
       "    .dataframe tbody tr th:only-of-type {\n",
       "        vertical-align: middle;\n",
       "    }\n",
       "\n",
       "    .dataframe tbody tr th {\n",
       "        vertical-align: top;\n",
       "    }\n",
       "\n",
       "    .dataframe thead th {\n",
       "        text-align: right;\n",
       "    }\n",
       "</style>\n",
       "<table border=\"1\" class=\"dataframe\">\n",
       "  <thead>\n",
       "    <tr style=\"text-align: right;\">\n",
       "      <th></th>\n",
       "      <th>0</th>\n",
       "    </tr>\n",
       "  </thead>\n",
       "  <tbody>\n",
       "    <tr>\n",
       "      <th>scores_val</th>\n",
       "      <td>62959.890009</td>\n",
       "    </tr>\n",
       "    <tr>\n",
       "      <th>scores_std</th>\n",
       "      <td>1270.049829</td>\n",
       "    </tr>\n",
       "  </tbody>\n",
       "</table>\n",
       "</div>"
      ],
      "text/plain": [
       "                       0\n",
       "scores_val  62959.890009\n",
       "scores_std   1270.049829"
      ]
     },
     "execution_count": 89,
     "metadata": {
      "tags": []
     },
     "output_type": "execute_result"
    }
   ],
   "source": [
    "model_val_scores(ELN_model, X_train_corr, y_train_corr)"
   ]
  },
  {
   "cell_type": "code",
   "execution_count": 64,
   "metadata": {
    "colab": {
     "base_uri": "https://localhost:8080/",
     "height": 279
    },
    "id": "5kdVr_DS6NFf",
    "outputId": "72a8c2b5-33bc-45ed-e39f-9e324ddf8e57"
   },
   "outputs": [
    {
     "data": {
      "image/png": "[encoded data removed]",
      "text/plain": [
       "<Figure size 432x288 with 1 Axes>"
      ]
     },
     "metadata": {
      "needs_background": "light",
      "tags": []
     },
     "output_type": "display_data"
    }
   ],
   "source": [
    "learning_curves(ELN_model, X_train_corr, y_train_corr)"
   ]
  },
  {
   "cell_type": "code",
   "execution_count": 65,
   "metadata": {
    "colab": {
     "base_uri": "https://localhost:8080/"
    },
    "id": "Y50dBlav6NFh",
    "outputId": "832b0bfe-45ab-4eb9-84a3-72bdff1b56de"
   },
   "outputs": [
    {
     "data": {
      "text/plain": [
       "dict_keys(['memory', 'steps', 'verbose', 'standardscaler', 'elasticnet', 'standardscaler__copy', 'standardscaler__with_mean', 'standardscaler__with_std', 'elasticnet__alpha', 'elasticnet__copy_X', 'elasticnet__fit_intercept', 'elasticnet__l1_ratio', 'elasticnet__max_iter', 'elasticnet__normalize', 'elasticnet__positive', 'elasticnet__precompute', 'elasticnet__random_state', 'elasticnet__selection', 'elasticnet__tol', 'elasticnet__warm_start'])"
      ]
     },
     "execution_count": 65,
     "metadata": {
      "tags": []
     },
     "output_type": "execute_result"
    }
   ],
   "source": [
    "ELN_model.get_params().keys()"
   ]
  },
  {
   "cell_type": "code",
   "execution_count": 90,
   "metadata": {
    "colab": {
     "base_uri": "https://localhost:8080/"
    },
    "id": "gdUZIjAt6NFi",
    "outputId": "0c770776-12cb-40bb-9cf8-4a09c0e9a258"
   },
   "outputs": [
    {
     "name": "stdout",
     "output_type": "stream",
     "text": [
      "best score : -3965545228.0121126\n",
      "best params : {'elasticnet__l1_ratio': 0.9, 'elasticnet__alpha': 0.001}\n"
     ]
    }
   ],
   "source": [
    "param_grid = {'elasticnet__alpha':np.arange(0.001, 0.1, 0.1 ),\n",
    "              'elasticnet__l1_ratio':np.arange(0, 1, 0.1)}\n",
    "\n",
    "ELN_model_best_params = RandomizeSearchCV_(ELN_model, param_grid, X_train_corr, y_train_corr )"
   ]
  },
  {
   "cell_type": "code",
   "execution_count": 67,
   "metadata": {
    "colab": {
     "base_uri": "https://localhost:8080/",
     "height": 279
    },
    "id": "fs0g6m9j6NFk",
    "outputId": "81f09d7b-1c6f-45c5-9896-81e691301bc1"
   },
   "outputs": [
    {
     "data": {
      "image/png": "[encoded data removed]",
      "text/plain": [
       "<Figure size 432x288 with 1 Axes>"
      ]
     },
     "metadata": {
      "needs_background": "light",
      "tags": []
     },
     "output_type": "display_data"
    }
   ],
   "source": [
    "learning_curves(ELN_model_best_params, X_train_corr, y_train_corr)"
   ]
  },
  {
   "cell_type": "code",
   "execution_count": 68,
   "metadata": {
    "id": "_0f2McTu6NFl"
   },
   "outputs": [],
   "source": [
    "ELN_model_best_params.fit(X_train_corr, y_train_corr)\n",
    "\n",
    "y_pred = ELN_model_best_params.predict(X_test_corr)"
   ]
  },
  {
   "cell_type": "code",
   "execution_count": 69,
   "metadata": {
    "colab": {
     "base_uri": "https://localhost:8080/",
     "height": 80
    },
    "id": "6ebxpfIc6NFm",
    "outputId": "43429ef0-12d0-4a03-a348-36c68f4a8dba"
   },
   "outputs": [
    {
     "data": {
      "text/html": [
       "<div>\n",
       "<style scoped>\n",
       "    .dataframe tbody tr th:only-of-type {\n",
       "        vertical-align: middle;\n",
       "    }\n",
       "\n",
       "    .dataframe tbody tr th {\n",
       "        vertical-align: top;\n",
       "    }\n",
       "\n",
       "    .dataframe thead th {\n",
       "        text-align: right;\n",
       "    }\n",
       "</style>\n",
       "<table border=\"1\" class=\"dataframe\">\n",
       "  <thead>\n",
       "    <tr style=\"text-align: right;\">\n",
       "      <th></th>\n",
       "      <th>r2_score</th>\n",
       "      <th>MAE</th>\n",
       "      <th>MSE</th>\n",
       "      <th>RMSE</th>\n",
       "    </tr>\n",
       "  </thead>\n",
       "  <tbody>\n",
       "    <tr>\n",
       "      <th>0</th>\n",
       "      <td>0.588867</td>\n",
       "      <td>45772.389146</td>\n",
       "      <td>3.920184e+09</td>\n",
       "      <td>62611.375448</td>\n",
       "    </tr>\n",
       "  </tbody>\n",
       "</table>\n",
       "</div>"
      ],
      "text/plain": [
       "   r2_score           MAE           MSE          RMSE\n",
       "0  0.588867  45772.389146  3.920184e+09  62611.375448"
      ]
     },
     "execution_count": 69,
     "metadata": {
      "tags": []
     },
     "output_type": "execute_result"
    }
   ],
   "source": [
    "performance_metrics(y_test_corr, y_pred)"
   ]
  },
  {
   "cell_type": "markdown",
   "metadata": {
    "id": "xdjCBngh6NFn"
   },
   "source": [
    "## Support Vector Machine "
   ]
  },
  {
   "cell_type": "markdown",
   "metadata": {
    "id": "FEZJd1K16NFo"
   },
   "source": [
    "- SVM Regression tries to fit as many instances as possible on the street while limiting margin violations (instances off the street)\n",
    "- The width of the street is controlled by a hyperparameter ε (epsilon)\n",
    "- SVMs are sensitive to the feature scales\n",
    "- The hyperparameter C acts like a regularization hyperparameter : if our model is overfitting, we should reduce it, and if it is underfitting, we should increase it \n",
    "- There is little regularization with a large C value, and much more regularization with, a small C value\n",
    "\n"
   ]
  },
  {
   "cell_type": "code",
   "execution_count": 70,
   "metadata": {
    "id": "PyTZS0co6NFo"
   },
   "outputs": [],
   "source": [
    "from sklearn.svm import SVR"
   ]
  },
  {
   "cell_type": "code",
   "execution_count": 71,
   "metadata": {
    "id": "j4Mz4G6h6NFr"
   },
   "outputs": [],
   "source": [
    "SVR_model = make_pipeline( StandardScaler(), SVR(epsilon=1.5, kernel='linear', C=100) )"
   ]
  },
  {
   "cell_type": "code",
   "execution_count": 72,
   "metadata": {
    "colab": {
     "base_uri": "https://localhost:8080/",
     "height": 111
    },
    "id": "YoR8wZU96NFt",
    "outputId": "b8a87d97-185e-4f59-ad34-ed044bdee430"
   },
   "outputs": [
    {
     "data": {
      "text/html": [
       "<div>\n",
       "<style scoped>\n",
       "    .dataframe tbody tr th:only-of-type {\n",
       "        vertical-align: middle;\n",
       "    }\n",
       "\n",
       "    .dataframe tbody tr th {\n",
       "        vertical-align: top;\n",
       "    }\n",
       "\n",
       "    .dataframe thead th {\n",
       "        text-align: right;\n",
       "    }\n",
       "</style>\n",
       "<table border=\"1\" class=\"dataframe\">\n",
       "  <thead>\n",
       "    <tr style=\"text-align: right;\">\n",
       "      <th></th>\n",
       "      <th>0</th>\n",
       "    </tr>\n",
       "  </thead>\n",
       "  <tbody>\n",
       "    <tr>\n",
       "      <th>scores_val</th>\n",
       "      <td>81187.273695</td>\n",
       "    </tr>\n",
       "    <tr>\n",
       "      <th>scores_std</th>\n",
       "      <td>33873.953469</td>\n",
       "    </tr>\n",
       "  </tbody>\n",
       "</table>\n",
       "</div>"
      ],
      "text/plain": [
       "                       0\n",
       "scores_val  81187.273695\n",
       "scores_std  33873.953469"
      ]
     },
     "execution_count": 72,
     "metadata": {
      "tags": []
     },
     "output_type": "execute_result"
    }
   ],
   "source": [
    "model_val_scores(SVR_model, X_train, y_train)"
   ]
  },
  {
   "cell_type": "code",
   "execution_count": 73,
   "metadata": {
    "colab": {
     "base_uri": "https://localhost:8080/",
     "height": 279
    },
    "id": "uVHR-NfO6NFw",
    "outputId": "a321d29e-2924-4eaa-ea76-87ba43aa34c7"
   },
   "outputs": [
    {
     "data": {
      "image/png": "[encoded data removed]",
      "text/plain": [
       "<Figure size 432x288 with 1 Axes>"
      ]
     },
     "metadata": {
      "needs_background": "light",
      "tags": []
     },
     "output_type": "display_data"
    }
   ],
   "source": [
    "learning_curves(SVR_model, X_train, y_train)"
   ]
  },
  {
   "cell_type": "markdown",
   "metadata": {},
   "source": [
    "- The plot of learning curves shows overfitting because the training score is relatively high. while the validation score increases to a point and begins decreasing again ."
   ]
  },
  {
   "cell_type": "code",
   "execution_count": 74,
   "metadata": {
    "colab": {
     "base_uri": "https://localhost:8080/"
    },
    "id": "vaa5l0_v6NF0",
    "outputId": "26e6fe1b-5ce7-443e-9635-a4ea728febf7"
   },
   "outputs": [
    {
     "data": {
      "text/plain": [
       "dict_keys(['memory', 'steps', 'verbose', 'standardscaler', 'svr', 'standardscaler__copy', 'standardscaler__with_mean', 'standardscaler__with_std', 'svr__C', 'svr__cache_size', 'svr__coef0', 'svr__degree', 'svr__epsilon', 'svr__gamma', 'svr__kernel', 'svr__max_iter', 'svr__shrinking', 'svr__tol', 'svr__verbose'])"
      ]
     },
     "execution_count": 74,
     "metadata": {
      "tags": []
     },
     "output_type": "execute_result"
    }
   ],
   "source": [
    "SVR_model.get_params().keys()"
   ]
  },
  {
   "cell_type": "code",
   "execution_count": 75,
   "metadata": {
    "id": "JbVsLb9O6NF3"
   },
   "outputs": [],
   "source": [
    "param_grid = {'svr__C':np.arange(10, 50, 5), 'svr__epsilon':np.arange(1, 6, 1), 'svr__kernel':['rbf','linear']}"
   ]
  },
  {
   "cell_type": "code",
   "execution_count": 77,
   "metadata": {
    "colab": {
     "base_uri": "https://localhost:8080/"
    },
    "id": "bZei2YY66NF4",
    "outputId": "4f849c05-e978-4501-899e-380335212fd4"
   },
   "outputs": [
    {
     "name": "stdout",
     "output_type": "stream",
     "text": [
      "best score : -4882817346.315078\n",
      "best params : {'svr__kernel': 'linear', 'svr__epsilon': 2, 'svr__C': 19}\n"
     ]
    }
   ],
   "source": [
    "SVR_best_params = RandomizeSearchCV_(SVR_model, param_grid , X_train, y_train)"
   ]
  },
  {
   "cell_type": "code",
   "execution_count": 78,
   "metadata": {
    "colab": {
     "base_uri": "https://localhost:8080/"
    },
    "id": "x74uDyS26NF-",
    "outputId": "19d77262-0e64-41b2-b336-20490640b81d"
   },
   "outputs": [
    {
     "data": {
      "text/plain": [
       "Pipeline(memory=None,\n",
       "         steps=[('standardscaler',\n",
       "                 StandardScaler(copy=True, with_mean=True, with_std=True)),\n",
       "                ('svr',\n",
       "                 SVR(C=19, cache_size=200, coef0=0.0, degree=3, epsilon=2,\n",
       "                     gamma='scale', kernel='linear', max_iter=-1,\n",
       "                     shrinking=True, tol=0.001, verbose=False))],\n",
       "         verbose=False)"
      ]
     },
     "execution_count": 78,
     "metadata": {
      "tags": []
     },
     "output_type": "execute_result"
    }
   ],
   "source": [
    "SVR_best_params.fit(X_train, y_train)"
   ]
  },
  {
   "cell_type": "code",
   "execution_count": 79,
   "metadata": {
    "id": "7LBNtqNu6NF_"
   },
   "outputs": [],
   "source": [
    "y_pred = SVR_best_params.predict(X_test)"
   ]
  },
  {
   "cell_type": "code",
   "execution_count": 80,
   "metadata": {
    "colab": {
     "base_uri": "https://localhost:8080/",
     "height": 80
    },
    "id": "4z7jUdT96NGA",
    "outputId": "b3564734-44d4-4e38-c52b-94c121a6759c"
   },
   "outputs": [
    {
     "data": {
      "text/html": [
       "<div>\n",
       "<style scoped>\n",
       "    .dataframe tbody tr th:only-of-type {\n",
       "        vertical-align: middle;\n",
       "    }\n",
       "\n",
       "    .dataframe tbody tr th {\n",
       "        vertical-align: top;\n",
       "    }\n",
       "\n",
       "    .dataframe thead th {\n",
       "        text-align: right;\n",
       "    }\n",
       "</style>\n",
       "<table border=\"1\" class=\"dataframe\">\n",
       "  <thead>\n",
       "    <tr style=\"text-align: right;\">\n",
       "      <th></th>\n",
       "      <th>r2_score</th>\n",
       "      <th>MAE</th>\n",
       "      <th>MSE</th>\n",
       "      <th>RMSE</th>\n",
       "    </tr>\n",
       "  </thead>\n",
       "  <tbody>\n",
       "    <tr>\n",
       "      <th>0</th>\n",
       "      <td>0.535375</td>\n",
       "      <td>46638.56886</td>\n",
       "      <td>4.430233e+09</td>\n",
       "      <td>66559.992271</td>\n",
       "    </tr>\n",
       "  </tbody>\n",
       "</table>\n",
       "</div>"
      ],
      "text/plain": [
       "   r2_score          MAE           MSE          RMSE\n",
       "0  0.535375  46638.56886  4.430233e+09  66559.992271"
      ]
     },
     "execution_count": 80,
     "metadata": {
      "tags": []
     },
     "output_type": "execute_result"
    }
   ],
   "source": [
    "performance_metrics(y_test, y_pred)"
   ]
  },
  {
   "cell_type": "markdown",
   "metadata": {
    "id": "z9Ricv8H6NGE"
   },
   "source": [
    "## K-Nearest Neighbors "
   ]
  },
  {
   "cell_type": "markdown",
   "metadata": {
    "id": "qFT2b3kR6NGE"
   },
   "source": [
    "KNN how it works :\n",
    "  - Calculate the distance between the data sample and every other sample with the help of a method such as Euclidean.\n",
    "  - Sort these values of distances in ascending order.\n",
    "  - Choose the top K values from the sorted distances.\n",
    "  - return the mean of the nearest K neighbors.\n",
    "\n",
    "- KNN is a non-parametric algorithm because it does not assume anything about the training data. This makes it useful for problems having non-linear data.\n",
    "- KNN can be very sensitive to the scale of data as it relies on computing the distances. For features with a higher scale, the calculated distances can be very high and might produce poor results. It is thus advised to scale the data before running the KNN.\n",
    "- KNN can be computationally expensive both in terms of time and storage, if the data is very large because KNN has to store the training data to work. This is generally not the case with other supervised learning models."
   ]
  },
  {
   "cell_type": "code",
   "execution_count": null,
   "metadata": {
    "id": "8Y-7R3Ie6NGE"
   },
   "outputs": [],
   "source": [
    "from sklearn.neighbors import KNeighborsRegressor"
   ]
  },
  {
   "cell_type": "code",
   "execution_count": null,
   "metadata": {
    "id": "VpMG3wdk6NGF"
   },
   "outputs": [],
   "source": [
    "KNR_model = make_pipeline(StandardScaler(), KNeighborsRegressor(n_neighbors=15,n_jobs=-1 ))"
   ]
  },
  {
   "cell_type": "code",
   "execution_count": null,
   "metadata": {
    "id": "2gltwY1G6NGG",
    "outputId": "bd4532c3-7a39-4afb-a9da-78f1bc8ab454"
   },
   "outputs": [
    {
     "data": {
      "text/html": [
       "<div>\n",
       "<style scoped>\n",
       "    .dataframe tbody tr th:only-of-type {\n",
       "        vertical-align: middle;\n",
       "    }\n",
       "\n",
       "    .dataframe tbody tr th {\n",
       "        vertical-align: top;\n",
       "    }\n",
       "\n",
       "    .dataframe thead th {\n",
       "        text-align: right;\n",
       "    }\n",
       "</style>\n",
       "<table border=\"1\" class=\"dataframe\">\n",
       "  <thead>\n",
       "    <tr style=\"text-align: right;\">\n",
       "      <th></th>\n",
       "      <th>0</th>\n",
       "    </tr>\n",
       "  </thead>\n",
       "  <tbody>\n",
       "    <tr>\n",
       "      <th>scores_val</th>\n",
       "      <td>60679.164148</td>\n",
       "    </tr>\n",
       "    <tr>\n",
       "      <th>scores_std</th>\n",
       "      <td>809.516117</td>\n",
       "    </tr>\n",
       "  </tbody>\n",
       "</table>\n",
       "</div>"
      ],
      "text/plain": [
       "                       0\n",
       "scores_val  60679.164148\n",
       "scores_std    809.516117"
      ]
     },
     "execution_count": 60,
     "metadata": {
      "tags": []
     },
     "output_type": "execute_result"
    }
   ],
   "source": [
    "model_val_scores(KNR_model, X_train, y_train)"
   ]
  },
  {
   "cell_type": "code",
   "execution_count": null,
   "metadata": {
    "id": "m9CI8Evt6NGI",
    "outputId": "3e109b9d-4711-4eca-ccda-1dc738018e12"
   },
   "outputs": [
    {
     "data": {
      "image/png": "[encoded data removed]",
      "text/plain": [
       "<Figure size 432x288 with 1 Axes>"
      ]
     },
     "metadata": {
      "needs_background": "light",
      "tags": []
     },
     "output_type": "display_data"
    }
   ],
   "source": [
    "learning_curves(KNR_model, X_train, y_train)"
   ]
  },
  {
   "cell_type": "markdown",
   "metadata": {},
   "source": [
    "- Both training and validation score increase over traing size with a high gap between them"
   ]
  },
  {
   "cell_type": "code",
   "execution_count": null,
   "metadata": {
    "id": "BPnTkQgq6NGK",
    "outputId": "a5de2f15-ff8f-4c87-ee22-b5cda974e89e"
   },
   "outputs": [
    {
     "data": {
      "text/plain": [
       "dict_keys(['memory', 'steps', 'verbose', 'standardscaler', 'kneighborsregressor', 'standardscaler__copy', 'standardscaler__with_mean', 'standardscaler__with_std', 'kneighborsregressor__algorithm', 'kneighborsregressor__leaf_size', 'kneighborsregressor__metric', 'kneighborsregressor__metric_params', 'kneighborsregressor__n_jobs', 'kneighborsregressor__n_neighbors', 'kneighborsregressor__p', 'kneighborsregressor__weights'])"
      ]
     },
     "execution_count": 62,
     "metadata": {
      "tags": []
     },
     "output_type": "execute_result"
    }
   ],
   "source": [
    "KNR_model.get_params().keys()"
   ]
  },
  {
   "cell_type": "code",
   "execution_count": null,
   "metadata": {
    "id": "feqEG-kt6NGM",
    "outputId": "30db8154-3523-4e1d-fc88-686cdbf55eaa"
   },
   "outputs": [
    {
     "name": "stdout",
     "output_type": "stream",
     "text": [
      "best score : -3633230046.006597\n",
      "best params : {'kneighborsregressor__weights': 'distance', 'kneighborsregressor__p': 1, 'kneighborsregressor__n_neighbors': 28, 'kneighborsregressor__leaf_size': 35}\n"
     ]
    }
   ],
   "source": [
    "param_grid = {'kneighborsregressor__n_neighbors':np.arange(5, 100, 1),\n",
    "             'kneighborsregressor__p':[1,2],\n",
    "             'kneighborsregressor__weights':['uniform','distance'],\n",
    "             'kneighborsregressor__leaf_size':np.arange(20,50,5)}\n",
    "\n",
    "\n",
    "KNR_model_best_params = RandomizeSearchCV_(KNR_model, param_grid , X_train, y_train)"
   ]
  },
  {
   "cell_type": "code",
   "execution_count": null,
   "metadata": {
    "id": "2XdTyVzN6NGS",
    "outputId": "4490673a-2feb-4cf8-eb5c-83c08b5b543c"
   },
   "outputs": [
    {
     "data": {
      "image/png": "[encoded data removed]",
      "text/plain": [
       "<Figure size 432x288 with 1 Axes>"
      ]
     },
     "metadata": {
      "needs_background": "light",
      "tags": []
     },
     "output_type": "display_data"
    }
   ],
   "source": [
    "learning_curves(KNR_model_best_params, X_train, y_train)"
   ]
  },
  {
   "cell_type": "markdown",
   "metadata": {},
   "source": [
    "- The Training curve is at fixed high score and the validation curve is almost fixed in a low score"
   ]
  },
  {
   "cell_type": "code",
   "execution_count": null,
   "metadata": {
    "id": "-FsCdOLl6NGU"
   },
   "outputs": [],
   "source": [
    "KNR_model_best_params.fit(X_train, y_train)\n",
    "\n",
    "y_pred = KNR_model_best_params.predict(X_test)"
   ]
  },
  {
   "cell_type": "code",
   "execution_count": null,
   "metadata": {
    "id": "h1Y3G-Lb6NGZ",
    "outputId": "614ef11f-610c-4fe3-92c8-3fefa5db211d"
   },
   "outputs": [
    {
     "data": {
      "text/html": [
       "<div>\n",
       "<style scoped>\n",
       "    .dataframe tbody tr th:only-of-type {\n",
       "        vertical-align: middle;\n",
       "    }\n",
       "\n",
       "    .dataframe tbody tr th {\n",
       "        vertical-align: top;\n",
       "    }\n",
       "\n",
       "    .dataframe thead th {\n",
       "        text-align: right;\n",
       "    }\n",
       "</style>\n",
       "<table border=\"1\" class=\"dataframe\">\n",
       "  <thead>\n",
       "    <tr style=\"text-align: right;\">\n",
       "      <th></th>\n",
       "      <th>r2_score</th>\n",
       "      <th>MAE</th>\n",
       "      <th>MSE</th>\n",
       "      <th>RMSE</th>\n",
       "    </tr>\n",
       "  </thead>\n",
       "  <tbody>\n",
       "    <tr>\n",
       "      <th>0</th>\n",
       "      <td>0.639346</td>\n",
       "      <td>42168.322451</td>\n",
       "      <td>3.438868e+09</td>\n",
       "      <td>58641.866231</td>\n",
       "    </tr>\n",
       "  </tbody>\n",
       "</table>\n",
       "</div>"
      ],
      "text/plain": [
       "   r2_score           MAE           MSE          RMSE\n",
       "0  0.639346  42168.322451  3.438868e+09  58641.866231"
      ]
     },
     "execution_count": 68,
     "metadata": {
      "tags": []
     },
     "output_type": "execute_result"
    }
   ],
   "source": [
    "performance_metrics(y_test, y_pred)"
   ]
  },
  {
   "cell_type": "markdown",
   "metadata": {
    "id": "UuxJpeHD6NGc"
   },
   "source": [
    "## Decision Trees"
   ]
  },
  {
   "cell_type": "markdown",
   "metadata": {
    "id": "87EySS1O6NGc"
   },
   "source": [
    "- Scikit-Learn uses the Classification And Regression Tree (CART) algorithm to train Decision Trees .\n",
    "- the idea is really quite simple: the algorithm first splits the training set into two subsets using a single feature k and a threshold $t_{k}$, then it splits the subsets using the same logic, then the sub-subsets, and so on, in a way that minimizes the MSE.\n",
    "- To avoid overfitting the training data, we need to restrict the Decision Tree’s freedom (max_depth, min_samples_split, min_samples_leaf  ...) during training. As we know , this is called regularization \n",
    "- One of the many qualities of Decision Trees is that they require very little data preparation. In particular, they don’t require feature scaling or centering also dummy encoding\n",
    "-  CART cost function for regression equation :\n",
    "\n",
    "$J(k,t_{K}) = \\frac{m_{left}}{m}MSE_{left}+\\frac{m_{right}}{m}MSE_{right}$   \n",
    "\n",
    "\n",
    "where : $\\binom{MSE_{node} = \\sum _{i \\in node} ( \\hat{y}_{node} - y^{(i)}) ^{2}}{\\hat{y}_{node} = \\frac{1}{m_{node}} \\sum _{i \\in node} y^{(i)}}$"
   ]
  },
  {
   "cell_type": "markdown",
   "metadata": {
    "id": "loHtoW1k6NGe"
   },
   "source": [
    "Decision Trees limitations :\n",
    "- Decision Trees is that they are very sensitive to small variations in the training data. In other words, if the training data is changed the resulting decision tree can be quite different, and in turn, the predictions can be quite different\n",
    "- Also Decision trees are computationally expensive to train, carry a big risk of overfitting, and tend to find local optima because they can’t go back after they have made a split.\n",
    "- Random Forests can limit this instability by averaging predictions over many trees "
   ]
  },
  {
   "cell_type": "code",
   "execution_count": 4,
   "metadata": {
    "id": "efz0L9Ww6NGe"
   },
   "outputs": [],
   "source": [
    "from sklearn.tree import DecisionTreeRegressor"
   ]
  },
  {
   "cell_type": "code",
   "execution_count": null,
   "metadata": {
    "id": "lRIVBzNp6NGf"
   },
   "outputs": [],
   "source": [
    "DTR_model = make_pipeline(DecisionTreeRegressor())"
   ]
  },
  {
   "cell_type": "code",
   "execution_count": null,
   "metadata": {
    "id": "wDFIF_NV6NGg",
    "outputId": "bec52823-3efc-461c-a5a6-f72eb2c3e0ef"
   },
   "outputs": [
    {
     "data": {
      "text/html": [
       "<div>\n",
       "<style scoped>\n",
       "    .dataframe tbody tr th:only-of-type {\n",
       "        vertical-align: middle;\n",
       "    }\n",
       "\n",
       "    .dataframe tbody tr th {\n",
       "        vertical-align: top;\n",
       "    }\n",
       "\n",
       "    .dataframe thead th {\n",
       "        text-align: right;\n",
       "    }\n",
       "</style>\n",
       "<table border=\"1\" class=\"dataframe\">\n",
       "  <thead>\n",
       "    <tr style=\"text-align: right;\">\n",
       "      <th></th>\n",
       "      <th>0</th>\n",
       "    </tr>\n",
       "  </thead>\n",
       "  <tbody>\n",
       "    <tr>\n",
       "      <th>scores_val</th>\n",
       "      <td>76421.619793</td>\n",
       "    </tr>\n",
       "    <tr>\n",
       "      <th>scores_std</th>\n",
       "      <td>931.982189</td>\n",
       "    </tr>\n",
       "  </tbody>\n",
       "</table>\n",
       "</div>"
      ],
      "text/plain": [
       "                       0\n",
       "scores_val  76421.619793\n",
       "scores_std    931.982189"
      ]
     },
     "execution_count": 71,
     "metadata": {
      "tags": []
     },
     "output_type": "execute_result"
    }
   ],
   "source": [
    "model_val_scores(DTR_model ,X_train, y_train)"
   ]
  },
  {
   "cell_type": "code",
   "execution_count": null,
   "metadata": {
    "id": "oXPfXR-O6NGh",
    "outputId": "13ab9398-bc1a-4445-ecc3-c803dfa34c3f"
   },
   "outputs": [
    {
     "data": {
      "image/png": "[encoded data removed]",
      "text/plain": [
       "<Figure size 432x288 with 1 Axes>"
      ]
     },
     "metadata": {
      "needs_background": "light",
      "tags": []
     },
     "output_type": "display_data"
    }
   ],
   "source": [
    "learning_curves(DTR_model, X_train, y_train)"
   ]
  },
  {
   "cell_type": "markdown",
   "metadata": {},
   "source": [
    "- The Training curve is at fixed high score and the validation curve is almost fixed in a low score"
   ]
  },
  {
   "cell_type": "code",
   "execution_count": null,
   "metadata": {
    "id": "WmYIB7BW6NGj",
    "outputId": "762b00b1-4806-42da-cf17-7eeea2032d1f"
   },
   "outputs": [
    {
     "data": {
      "text/plain": [
       "dict_keys(['memory', 'steps', 'verbose', 'decisiontreeregressor', 'decisiontreeregressor__ccp_alpha', 'decisiontreeregressor__criterion', 'decisiontreeregressor__max_depth', 'decisiontreeregressor__max_features', 'decisiontreeregressor__max_leaf_nodes', 'decisiontreeregressor__min_impurity_decrease', 'decisiontreeregressor__min_impurity_split', 'decisiontreeregressor__min_samples_leaf', 'decisiontreeregressor__min_samples_split', 'decisiontreeregressor__min_weight_fraction_leaf', 'decisiontreeregressor__presort', 'decisiontreeregressor__random_state', 'decisiontreeregressor__splitter'])"
      ]
     },
     "execution_count": 73,
     "metadata": {
      "tags": []
     },
     "output_type": "execute_result"
    }
   ],
   "source": [
    "DTR_model.get_params().keys()"
   ]
  },
  {
   "cell_type": "code",
   "execution_count": null,
   "metadata": {
    "id": "hj2-qOE96NGk",
    "outputId": "075af1ff-b62f-4044-c073-754ff5701074"
   },
   "outputs": [
    {
     "name": "stdout",
     "output_type": "stream",
     "text": [
      "best score : -3576200561.0229096\n",
      "best params : {'decisiontreeregressor__max_depth': 7, 'decisiontreeregressor__max_features': 10}\n"
     ]
    }
   ],
   "source": [
    "#Let's gain a comprehensive understanding of these hyperparameters using tree visualizations.\n",
    "param_grid = {'decisiontreeregressor__max_depth':np.arange(5, 30, 1), \n",
    "              'decisiontreeregressor__max_features':np.arange(7, 12, 1)               \n",
    "             }\n",
    "\n",
    "DTR_model_best_params = GridSearchCV_(DTR_model, param_grid , X_train, y_train)"
   ]
  },
  {
   "cell_type": "code",
   "execution_count": null,
   "metadata": {
    "id": "_WpTCphi6NGn",
    "outputId": "06e48de4-15cd-40cc-b327-2f36cb54922c"
   },
   "outputs": [
    {
     "data": {
      "image/png": "[encoded data removed]",
      "text/plain": [
       "<Figure size 432x288 with 1 Axes>"
      ]
     },
     "metadata": {
      "needs_background": "light",
      "tags": []
     },
     "output_type": "display_data"
    }
   ],
   "source": [
    "learning_curves(DTR_model_best_params, X_train, y_train)"
   ]
  },
  {
   "cell_type": "markdown",
   "metadata": {
    "id": "rYEvztke6NGq"
   },
   "source": [
    "- The training score decreases while the validation score increases.\n",
    "- This indicates that the model is capable of further learning and possible further improvements and the training process was halted prematurely."
   ]
  },
  {
   "cell_type": "code",
   "execution_count": null,
   "metadata": {
    "id": "2OmbvxLa6NGq"
   },
   "outputs": [],
   "source": [
    "DTR_model_best_params.fit(X_train, y_train)\n",
    "\n",
    "y_pred = DTR_model_best_params.predict(X_test)"
   ]
  },
  {
   "cell_type": "code",
   "execution_count": null,
   "metadata": {
    "id": "wz6HIdVg6NGr",
    "outputId": "046d8fa5-5f34-43b0-fb5f-48b6e7563422"
   },
   "outputs": [
    {
     "data": {
      "text/html": [
       "<div>\n",
       "<style scoped>\n",
       "    .dataframe tbody tr th:only-of-type {\n",
       "        vertical-align: middle;\n",
       "    }\n",
       "\n",
       "    .dataframe tbody tr th {\n",
       "        vertical-align: top;\n",
       "    }\n",
       "\n",
       "    .dataframe thead th {\n",
       "        text-align: right;\n",
       "    }\n",
       "</style>\n",
       "<table border=\"1\" class=\"dataframe\">\n",
       "  <thead>\n",
       "    <tr style=\"text-align: right;\">\n",
       "      <th></th>\n",
       "      <th>r2_score</th>\n",
       "      <th>MAE</th>\n",
       "      <th>MSE</th>\n",
       "      <th>RMSE</th>\n",
       "    </tr>\n",
       "  </thead>\n",
       "  <tbody>\n",
       "    <tr>\n",
       "      <th>0</th>\n",
       "      <td>0.642283</td>\n",
       "      <td>42029.058411</td>\n",
       "      <td>3.410858e+09</td>\n",
       "      <td>58402.553905</td>\n",
       "    </tr>\n",
       "  </tbody>\n",
       "</table>\n",
       "</div>"
      ],
      "text/plain": [
       "   r2_score           MAE           MSE          RMSE\n",
       "0  0.642283  42029.058411  3.410858e+09  58402.553905"
      ]
     },
     "execution_count": 78,
     "metadata": {
      "tags": []
     },
     "output_type": "execute_result"
    }
   ],
   "source": [
    "performance_metrics(y_test, y_pred)"
   ]
  },
  {
   "cell_type": "markdown",
   "metadata": {
    "id": "IHB_NUEn6NGs"
   },
   "source": [
    "## Ensemble Methods"
   ]
  },
  {
   "cell_type": "markdown",
   "metadata": {
    "id": "cCNHRLxg6NGx"
   },
   "source": [
    "- An Ensemble method is a technique that combines the predictions from multiple machine learning algorithms together to make more accurate predictions (increase performance) than any individual model, a model comprised of many models is called an Ensemble model.\n",
    "- Ensemble methods can decrease variance using bagging approach, bias using a boosting approach, or improve predictions using stacking approach"
   ]
  },
  {
   "cell_type": "markdown",
   "metadata": {
    "id": "4Qklh9sZ6NGx"
   },
   "source": [
    "### Random Forest "
   ]
  },
  {
   "cell_type": "markdown",
   "metadata": {
    "id": "79ZfqbFX6NGz"
   },
   "source": [
    "- Random Forest is an ensemble of Decision Trees , generally trained via the bagging method (or sometimes pasting)\n",
    "     - **Bagging method** (Bootstrap Aggregation) : refers to random sampling with replacement .It is can be used to reduce the variance for those algorithm that have high variance, typically decision trees\n",
    "     - **Pasting method**: it refers to random sampling without replacement with the same features as the bagging method\n",
    "- RandomForestRegressor  has all the hyperparameters of a DecisionTreeRegressor (to control how trees are grown), plus all the hyperparameters of a BaggingRegressor to control the ensemble itself.\n",
    "- The trees in random forests are run in parallel. There is no interaction between these trees while building the trees.\n",
    "- It can handle thousands of input variables without variable deletion.\n",
    "- It operates by constructing a multitude of decision trees at training time and outputting the mean prediction of the individual trees."
   ]
  },
  {
   "cell_type": "code",
   "execution_count": null,
   "metadata": {
    "id": "QPRulDes6NGz"
   },
   "outputs": [],
   "source": [
    "from sklearn.ensemble import RandomForestRegressor"
   ]
  },
  {
   "cell_type": "code",
   "execution_count": null,
   "metadata": {
    "id": "rVo2zgfL6NG1"
   },
   "outputs": [],
   "source": [
    "RFR_model  = make_pipeline(RandomForestRegressor(n_estimators=12, n_jobs=-1))"
   ]
  },
  {
   "cell_type": "code",
   "execution_count": null,
   "metadata": {
    "id": "TpsTcUzQ6NG2",
    "outputId": "f88f7aeb-2074-4546-9b7e-64efced555bb"
   },
   "outputs": [
    {
     "data": {
      "text/html": [
       "<div>\n",
       "<style scoped>\n",
       "    .dataframe tbody tr th:only-of-type {\n",
       "        vertical-align: middle;\n",
       "    }\n",
       "\n",
       "    .dataframe tbody tr th {\n",
       "        vertical-align: top;\n",
       "    }\n",
       "\n",
       "    .dataframe thead th {\n",
       "        text-align: right;\n",
       "    }\n",
       "</style>\n",
       "<table border=\"1\" class=\"dataframe\">\n",
       "  <thead>\n",
       "    <tr style=\"text-align: right;\">\n",
       "      <th></th>\n",
       "      <th>0</th>\n",
       "    </tr>\n",
       "  </thead>\n",
       "  <tbody>\n",
       "    <tr>\n",
       "      <th>scores_val</th>\n",
       "      <td>56645.329506</td>\n",
       "    </tr>\n",
       "    <tr>\n",
       "      <th>scores_std</th>\n",
       "      <td>752.157029</td>\n",
       "    </tr>\n",
       "  </tbody>\n",
       "</table>\n",
       "</div>"
      ],
      "text/plain": [
       "                       0\n",
       "scores_val  56645.329506\n",
       "scores_std    752.157029"
      ]
     },
     "execution_count": 81,
     "metadata": {
      "tags": []
     },
     "output_type": "execute_result"
    }
   ],
   "source": [
    "model_val_scores(RFR_model, X_train, y_train)"
   ]
  },
  {
   "cell_type": "code",
   "execution_count": null,
   "metadata": {
    "id": "fHUk_CFk6NG4",
    "outputId": "544c7c65-634c-435d-ba5e-ae7031993d20"
   },
   "outputs": [
    {
     "data": {
      "image/png": "[encoded data removed]",
      "text/plain": [
       "<Figure size 432x288 with 1 Axes>"
      ]
     },
     "metadata": {
      "needs_background": "light",
      "tags": []
     },
     "output_type": "display_data"
    }
   ],
   "source": [
    "learning_curves(RFR_model, X_train, y_train)"
   ]
  },
  {
   "cell_type": "code",
   "execution_count": null,
   "metadata": {
    "id": "jmlVH0oC6NG5",
    "outputId": "1de23d0a-2847-4375-f0b9-2ee15ef22bc0"
   },
   "outputs": [
    {
     "data": {
      "text/plain": [
       "dict_keys(['memory', 'steps', 'verbose', 'randomforestregressor', 'randomforestregressor__bootstrap', 'randomforestregressor__ccp_alpha', 'randomforestregressor__criterion', 'randomforestregressor__max_depth', 'randomforestregressor__max_features', 'randomforestregressor__max_leaf_nodes', 'randomforestregressor__max_samples', 'randomforestregressor__min_impurity_decrease', 'randomforestregressor__min_impurity_split', 'randomforestregressor__min_samples_leaf', 'randomforestregressor__min_samples_split', 'randomforestregressor__min_weight_fraction_leaf', 'randomforestregressor__n_estimators', 'randomforestregressor__n_jobs', 'randomforestregressor__oob_score', 'randomforestregressor__random_state', 'randomforestregressor__verbose', 'randomforestregressor__warm_start'])"
      ]
     },
     "execution_count": 83,
     "metadata": {
      "tags": []
     },
     "output_type": "execute_result"
    }
   ],
   "source": [
    "RFR_model.get_params().keys()"
   ]
  },
  {
   "cell_type": "code",
   "execution_count": null,
   "metadata": {
    "id": "KkUk44OG6NG6",
    "outputId": "09030380-86ce-465b-cc19-325db170a694"
   },
   "outputs": [
    {
     "name": "stdout",
     "output_type": "stream",
     "text": [
      "best score : -2983246217.086509\n",
      "best params : {'randomforestregressor__max_depth': 10, 'randomforestregressor__n_estimators': 260}\n"
     ]
    }
   ],
   "source": [
    "param_grid = {'randomforestregressor__max_depth':np.arange(10, 40, 10),\n",
    "             'randomforestregressor__n_estimators':np.arange(200, 300, 20)}\n",
    "\n",
    "RFR_model_best_params = GridSearchCV_(RFR_model, param_grid , X_train, y_train)"
   ]
  },
  {
   "cell_type": "code",
   "execution_count": null,
   "metadata": {
    "id": "qM8xykyD6NG7",
    "outputId": "6728c4c5-c87d-4b84-dd9c-d2eb5c27867b"
   },
   "outputs": [
    {
     "data": {
      "image/png": "[encoded data removed]",
      "text/plain": [
       "<Figure size 432x288 with 1 Axes>"
      ]
     },
     "metadata": {
      "needs_background": "light",
      "tags": []
     },
     "output_type": "display_data"
    }
   ],
   "source": [
    "learning_curves(RFR_model_best_params, X_train, y_train)"
   ]
  },
  {
   "cell_type": "code",
   "execution_count": null,
   "metadata": {
    "id": "3Za9k5_q6NG9"
   },
   "outputs": [],
   "source": [
    "RFR_model_best_params.fit(X_train, y_train)\n",
    "\n",
    "y_pred = RFR_model_best_params.predict(X_test)"
   ]
  },
  {
   "cell_type": "code",
   "execution_count": null,
   "metadata": {
    "id": "4BOns_Sl6NG-",
    "outputId": "5a8fe4e4-6f37-45ad-f764-74fa090b03e3"
   },
   "outputs": [
    {
     "data": {
      "text/html": [
       "<div>\n",
       "<style scoped>\n",
       "    .dataframe tbody tr th:only-of-type {\n",
       "        vertical-align: middle;\n",
       "    }\n",
       "\n",
       "    .dataframe tbody tr th {\n",
       "        vertical-align: top;\n",
       "    }\n",
       "\n",
       "    .dataframe thead th {\n",
       "        text-align: right;\n",
       "    }\n",
       "</style>\n",
       "<table border=\"1\" class=\"dataframe\">\n",
       "  <thead>\n",
       "    <tr style=\"text-align: right;\">\n",
       "      <th></th>\n",
       "      <th>r2_score</th>\n",
       "      <th>MAE</th>\n",
       "      <th>MSE</th>\n",
       "      <th>RMSE</th>\n",
       "    </tr>\n",
       "  </thead>\n",
       "  <tbody>\n",
       "    <tr>\n",
       "      <th>0</th>\n",
       "      <td>0.701277</td>\n",
       "      <td>38245.361106</td>\n",
       "      <td>2.848348e+09</td>\n",
       "      <td>53369.919352</td>\n",
       "    </tr>\n",
       "  </tbody>\n",
       "</table>\n",
       "</div>"
      ],
      "text/plain": [
       "   r2_score           MAE           MSE          RMSE\n",
       "0  0.701277  38245.361106  2.848348e+09  53369.919352"
      ]
     },
     "execution_count": 89,
     "metadata": {
      "tags": []
     },
     "output_type": "execute_result"
    }
   ],
   "source": [
    "performance_metrics(y_test, y_pred)"
   ]
  },
  {
   "cell_type": "markdown",
   "metadata": {
    "id": "bHLSbNVg6NG_"
   },
   "source": [
    "### AdaBoost"
   ]
  },
  {
   "cell_type": "markdown",
   "metadata": {
    "id": "kflJrA1a6NG_"
   },
   "source": [
    "- AdaBoost is a **boosting** algorithm .\n",
    "  - Boosting algorithm : refers to a group of algorithms that utilize weighted averages to make weak learners into stronger learners. Each model that runs, dictates what features the next model will focus on.\n",
    "- How it works : the new predictor corrects  its predecessor by paying a bit more attention to the training instances that the predecessor underfitted. This results in new predictors focusing more and more on the hard cases.\n",
    "- If AdaBoost ensemble is overfitting the training set, we can try reducing the number of estimators or more strongly regularizing the base estimator."
   ]
  },
  {
   "cell_type": "code",
   "execution_count": 43,
   "metadata": {
    "id": "nQchTd9F6NG_"
   },
   "outputs": [],
   "source": [
    "from sklearn.ensemble import AdaBoostRegressor"
   ]
  },
  {
   "cell_type": "code",
   "execution_count": 44,
   "metadata": {
    "id": "okbAUiCp6NHA"
   },
   "outputs": [],
   "source": [
    "ada_model = make_pipeline(AdaBoostRegressor(DecisionTreeRegressor(max_depth=5), n_estimators=200, learning_rate=0.5))"
   ]
  },
  {
   "cell_type": "code",
   "execution_count": 45,
   "metadata": {
    "colab": {
     "base_uri": "https://localhost:8080/",
     "height": 111
    },
    "id": "I3qhLk196NHB",
    "outputId": "dcc3bcc8-327d-4ae3-9f0d-9ff515140baf"
   },
   "outputs": [
    {
     "data": {
      "text/html": [
       "<div>\n",
       "<style scoped>\n",
       "    .dataframe tbody tr th:only-of-type {\n",
       "        vertical-align: middle;\n",
       "    }\n",
       "\n",
       "    .dataframe tbody tr th {\n",
       "        vertical-align: top;\n",
       "    }\n",
       "\n",
       "    .dataframe thead th {\n",
       "        text-align: right;\n",
       "    }\n",
       "</style>\n",
       "<table border=\"1\" class=\"dataframe\">\n",
       "  <thead>\n",
       "    <tr style=\"text-align: right;\">\n",
       "      <th></th>\n",
       "      <th>0</th>\n",
       "    </tr>\n",
       "  </thead>\n",
       "  <tbody>\n",
       "    <tr>\n",
       "      <th>scores_val</th>\n",
       "      <td>77647.050561</td>\n",
       "    </tr>\n",
       "    <tr>\n",
       "      <th>scores_std</th>\n",
       "      <td>1564.487836</td>\n",
       "    </tr>\n",
       "  </tbody>\n",
       "</table>\n",
       "</div>"
      ],
      "text/plain": [
       "                       0\n",
       "scores_val  77647.050561\n",
       "scores_std   1564.487836"
      ]
     },
     "execution_count": 45,
     "metadata": {
      "tags": []
     },
     "output_type": "execute_result"
    }
   ],
   "source": [
    "model_val_scores(ada_model, X_train, y_train)"
   ]
  },
  {
   "cell_type": "code",
   "execution_count": 47,
   "metadata": {
    "colab": {
     "base_uri": "https://localhost:8080/",
     "height": 279
    },
    "id": "jp09s3Zk6NHD",
    "outputId": "33f3280a-67ac-4fa6-85d7-64c4c8b80fe4"
   },
   "outputs": [
    {
     "data": {
      "image/png": "[encoded data removed]",
      "text/plain": [
       "<Figure size 432x288 with 1 Axes>"
      ]
     },
     "metadata": {
      "needs_background": "light",
      "tags": []
     },
     "output_type": "display_data"
    }
   ],
   "source": [
    "learning_curves(ada_model, X_train, y_train)"
   ]
  },
  {
   "cell_type": "markdown",
   "metadata": {},
   "source": [
    "- The training and the validation loss continue to decrease until the end of training"
   ]
  },
  {
   "cell_type": "code",
   "execution_count": 48,
   "metadata": {
    "colab": {
     "base_uri": "https://localhost:8080/"
    },
    "id": "Ded97_E86NHE",
    "outputId": "698e7c93-d267-4e41-dd89-988aadd12fb1"
   },
   "outputs": [
    {
     "data": {
      "text/plain": [
       "dict_keys(['memory', 'steps', 'verbose', 'adaboostregressor', 'adaboostregressor__base_estimator__ccp_alpha', 'adaboostregressor__base_estimator__criterion', 'adaboostregressor__base_estimator__max_depth', 'adaboostregressor__base_estimator__max_features', 'adaboostregressor__base_estimator__max_leaf_nodes', 'adaboostregressor__base_estimator__min_impurity_decrease', 'adaboostregressor__base_estimator__min_impurity_split', 'adaboostregressor__base_estimator__min_samples_leaf', 'adaboostregressor__base_estimator__min_samples_split', 'adaboostregressor__base_estimator__min_weight_fraction_leaf', 'adaboostregressor__base_estimator__presort', 'adaboostregressor__base_estimator__random_state', 'adaboostregressor__base_estimator__splitter', 'adaboostregressor__base_estimator', 'adaboostregressor__learning_rate', 'adaboostregressor__loss', 'adaboostregressor__n_estimators', 'adaboostregressor__random_state'])"
      ]
     },
     "execution_count": 48,
     "metadata": {
      "tags": []
     },
     "output_type": "execute_result"
    }
   ],
   "source": [
    "ada_model.get_params().keys()"
   ]
  },
  {
   "cell_type": "code",
   "execution_count": 91,
   "metadata": {
    "colab": {
     "base_uri": "https://localhost:8080/"
    },
    "id": "caaMOPIE6NHG",
    "outputId": "da79e46b-f857-45ca-df53-0922e736c24b"
   },
   "outputs": [
    {
     "name": "stdout",
     "output_type": "stream",
     "text": [
      "best score : -3036795267.987372\n",
      "best params : {'adaboostregressor__n_estimators': 250, 'adaboostregressor__learning_rate': 0.001, 'adaboostregressor__base_estimator__max_depth': 10}\n"
     ]
    }
   ],
   "source": [
    "param_grid = {'adaboostregressor__base_estimator__max_depth':np.arange(5,20,5),\n",
    "              'adaboostregressor__n_estimators':np.arange(100, 300, 50),\n",
    "              'adaboostregressor__learning_rate' : np.arange(0.001, 0.9, 0.9)\n",
    "               }\n",
    "\n",
    "ada_best_params = RandomizeSearchCV_(ada_model, param_grid, X_train, y_train )"
   ]
  },
  {
   "cell_type": "code",
   "execution_count": 50,
   "metadata": {
    "colab": {
     "base_uri": "https://localhost:8080/",
     "height": 279
    },
    "id": "Vt1P34tk6NHH",
    "outputId": "fafbe194-e327-475a-c1d9-831235189cfe"
   },
   "outputs": [
    {
     "data": {
      "image/png": "[encoded data removed]",
      "text/plain": [
       "<Figure size 432x288 with 1 Axes>"
      ]
     },
     "metadata": {
      "needs_background": "light",
      "tags": []
     },
     "output_type": "display_data"
    }
   ],
   "source": [
    "learning_curves(ada_best_params, X_train, y_train)"
   ]
  },
  {
   "cell_type": "code",
   "execution_count": 51,
   "metadata": {
    "id": "BQSochL26NHI"
   },
   "outputs": [],
   "source": [
    "ada_best_params.fit(X_train, y_train)\n",
    "\n",
    "y_pred = ada_best_params.predict(X_test)"
   ]
  },
  {
   "cell_type": "code",
   "execution_count": 52,
   "metadata": {
    "colab": {
     "base_uri": "https://localhost:8080/",
     "height": 80
    },
    "id": "ckq7WXVE6NHJ",
    "outputId": "f8deca94-192d-41ed-a60a-8c40a3b993a7"
   },
   "outputs": [
    {
     "data": {
      "text/html": [
       "<div>\n",
       "<style scoped>\n",
       "    .dataframe tbody tr th:only-of-type {\n",
       "        vertical-align: middle;\n",
       "    }\n",
       "\n",
       "    .dataframe tbody tr th {\n",
       "        vertical-align: top;\n",
       "    }\n",
       "\n",
       "    .dataframe thead th {\n",
       "        text-align: right;\n",
       "    }\n",
       "</style>\n",
       "<table border=\"1\" class=\"dataframe\">\n",
       "  <thead>\n",
       "    <tr style=\"text-align: right;\">\n",
       "      <th></th>\n",
       "      <th>r2_score</th>\n",
       "      <th>MAE</th>\n",
       "      <th>MSE</th>\n",
       "      <th>RMSE</th>\n",
       "    </tr>\n",
       "  </thead>\n",
       "  <tbody>\n",
       "    <tr>\n",
       "      <th>0</th>\n",
       "      <td>0.698197</td>\n",
       "      <td>37828.896278</td>\n",
       "      <td>2.877721e+09</td>\n",
       "      <td>53644.390559</td>\n",
       "    </tr>\n",
       "  </tbody>\n",
       "</table>\n",
       "</div>"
      ],
      "text/plain": [
       "   r2_score           MAE           MSE          RMSE\n",
       "0  0.698197  37828.896278  2.877721e+09  53644.390559"
      ]
     },
     "execution_count": 52,
     "metadata": {
      "tags": []
     },
     "output_type": "execute_result"
    }
   ],
   "source": [
    "performance_metrics(y_test, y_pred)"
   ]
  },
  {
   "cell_type": "markdown",
   "metadata": {
    "id": "g0nN7hhZ6NHK"
   },
   "source": [
    "### Performances conclusion :"
   ]
  },
  {
   "cell_type": "markdown",
   "metadata": {},
   "source": [
    "- Let's classify for the small to the high the RMSE of all the models to see who perform well on the test data and could certainly rely on it to predict the Boston house price "
   ]
  },
  {
   "cell_type": "code",
   "execution_count": 176,
   "metadata": {},
   "outputs": [],
   "source": [
    "final_RMSE = pd.DataFrame(data = [[53369.91], [53644.39], [58402.55], [58641.86], [61597.65], [61980.19], [62610.92], [62611.37], [66559.99]], \n",
    "                          index = ['Random Forest Regressor','AdaBoost Regressor','Decision Tree Regressor',\n",
    "                                     'KNeighbors Regressor', 'Ridge', 'Linear Regression', 'Lasso',\n",
    "                                     'ElasticNet','Support Vector Regressor'],\n",
    "                          columns = ['RMSE'])"
   ]
  },
  {
   "cell_type": "code",
   "execution_count": 177,
   "metadata": {},
   "outputs": [
    {
     "data": {
      "text/html": [
       "<style  type=\"text/css\" >\n",
       "    #T_5425f6d0_1de6_11eb_b41b_acbc32b8d9f7row0_col0 {\n",
       "            background-color:  #e5ffe5;\n",
       "            color:  #000000;\n",
       "        }    #T_5425f6d0_1de6_11eb_b41b_acbc32b8d9f7row1_col0 {\n",
       "            background-color:  #e1fde1;\n",
       "            color:  #000000;\n",
       "        }    #T_5425f6d0_1de6_11eb_b41b_acbc32b8d9f7row2_col0 {\n",
       "            background-color:  #8ecf8e;\n",
       "            color:  #000000;\n",
       "        }    #T_5425f6d0_1de6_11eb_b41b_acbc32b8d9f7row3_col0 {\n",
       "            background-color:  #8acc8a;\n",
       "            color:  #000000;\n",
       "        }    #T_5425f6d0_1de6_11eb_b41b_acbc32b8d9f7row4_col0 {\n",
       "            background-color:  #56b056;\n",
       "            color:  #000000;\n",
       "        }    #T_5425f6d0_1de6_11eb_b41b_acbc32b8d9f7row5_col0 {\n",
       "            background-color:  #4fac4f;\n",
       "            color:  #000000;\n",
       "        }    #T_5425f6d0_1de6_11eb_b41b_acbc32b8d9f7row6_col0 {\n",
       "            background-color:  #44a644;\n",
       "            color:  #000000;\n",
       "        }    #T_5425f6d0_1de6_11eb_b41b_acbc32b8d9f7row7_col0 {\n",
       "            background-color:  #44a644;\n",
       "            color:  #000000;\n",
       "        }    #T_5425f6d0_1de6_11eb_b41b_acbc32b8d9f7row8_col0 {\n",
       "            background-color:  #008000;\n",
       "            color:  #f1f1f1;\n",
       "        }</style><table id=\"T_5425f6d0_1de6_11eb_b41b_acbc32b8d9f7\" ><thead>    <tr>        <th class=\"blank level0\" ></th>        <th class=\"col_heading level0 col0\" >RMSE</th>    </tr></thead><tbody>\n",
       "                <tr>\n",
       "                        <th id=\"T_5425f6d0_1de6_11eb_b41b_acbc32b8d9f7level0_row0\" class=\"row_heading level0 row0\" >Random Forest Regressor</th>\n",
       "                        <td id=\"T_5425f6d0_1de6_11eb_b41b_acbc32b8d9f7row0_col0\" class=\"data row0 col0\" >53369.910000</td>\n",
       "            </tr>\n",
       "            <tr>\n",
       "                        <th id=\"T_5425f6d0_1de6_11eb_b41b_acbc32b8d9f7level0_row1\" class=\"row_heading level0 row1\" >AdaBoost Regressor</th>\n",
       "                        <td id=\"T_5425f6d0_1de6_11eb_b41b_acbc32b8d9f7row1_col0\" class=\"data row1 col0\" >53644.390000</td>\n",
       "            </tr>\n",
       "            <tr>\n",
       "                        <th id=\"T_5425f6d0_1de6_11eb_b41b_acbc32b8d9f7level0_row2\" class=\"row_heading level0 row2\" >Decision Tree Regressor</th>\n",
       "                        <td id=\"T_5425f6d0_1de6_11eb_b41b_acbc32b8d9f7row2_col0\" class=\"data row2 col0\" >58402.550000</td>\n",
       "            </tr>\n",
       "            <tr>\n",
       "                        <th id=\"T_5425f6d0_1de6_11eb_b41b_acbc32b8d9f7level0_row3\" class=\"row_heading level0 row3\" >KNeighbors Regressor</th>\n",
       "                        <td id=\"T_5425f6d0_1de6_11eb_b41b_acbc32b8d9f7row3_col0\" class=\"data row3 col0\" >58641.860000</td>\n",
       "            </tr>\n",
       "            <tr>\n",
       "                        <th id=\"T_5425f6d0_1de6_11eb_b41b_acbc32b8d9f7level0_row4\" class=\"row_heading level0 row4\" >Ridge</th>\n",
       "                        <td id=\"T_5425f6d0_1de6_11eb_b41b_acbc32b8d9f7row4_col0\" class=\"data row4 col0\" >61597.650000</td>\n",
       "            </tr>\n",
       "            <tr>\n",
       "                        <th id=\"T_5425f6d0_1de6_11eb_b41b_acbc32b8d9f7level0_row5\" class=\"row_heading level0 row5\" >Linear Regression</th>\n",
       "                        <td id=\"T_5425f6d0_1de6_11eb_b41b_acbc32b8d9f7row5_col0\" class=\"data row5 col0\" >61980.190000</td>\n",
       "            </tr>\n",
       "            <tr>\n",
       "                        <th id=\"T_5425f6d0_1de6_11eb_b41b_acbc32b8d9f7level0_row6\" class=\"row_heading level0 row6\" >Lasso</th>\n",
       "                        <td id=\"T_5425f6d0_1de6_11eb_b41b_acbc32b8d9f7row6_col0\" class=\"data row6 col0\" >62610.920000</td>\n",
       "            </tr>\n",
       "            <tr>\n",
       "                        <th id=\"T_5425f6d0_1de6_11eb_b41b_acbc32b8d9f7level0_row7\" class=\"row_heading level0 row7\" >ElasticNet</th>\n",
       "                        <td id=\"T_5425f6d0_1de6_11eb_b41b_acbc32b8d9f7row7_col0\" class=\"data row7 col0\" >62611.370000</td>\n",
       "            </tr>\n",
       "            <tr>\n",
       "                        <th id=\"T_5425f6d0_1de6_11eb_b41b_acbc32b8d9f7level0_row8\" class=\"row_heading level0 row8\" >Support Vector Regressor</th>\n",
       "                        <td id=\"T_5425f6d0_1de6_11eb_b41b_acbc32b8d9f7row8_col0\" class=\"data row8 col0\" >66559.990000</td>\n",
       "            </tr>\n",
       "    </tbody></table>"
      ],
      "text/plain": [
       "<pandas.io.formats.style.Styler at 0x7fd580265cd0>"
      ]
     },
     "execution_count": 177,
     "metadata": {},
     "output_type": "execute_result"
    }
   ],
   "source": [
    "cm = sns.light_palette('green', as_cmap=True)\n",
    "\n",
    "final_RMSE = final_RMSE.style.background_gradient(cmap=cm)\n",
    "final_RMSE"
   ]
  },
  {
   "cell_type": "markdown",
   "metadata": {},
   "source": [
    "- As we see, Random Forest Regression works the best for this dataset"
   ]
  },
  {
   "cell_type": "markdown",
   "metadata": {},
   "source": [
    "#### Please upvote if you found this kernel useful!\n",
    "\n",
    "#### Feedback is greatly appreciated!"
   ]
  },
  {
   "cell_type": "markdown",
   "metadata": {
    "id": "lWzqRFBY6NHK"
   },
   "source": [
    "### References\n"
   ]
  },
  {
   "cell_type": "markdown",
   "metadata": {
    "id": "ChzlxDI16NHL"
   },
   "source": [
    "- <a src='https://www.amazon.fr/Hands-Machine-Learning-Scikit-Learn-TensorFlow/dp/1491962291'> Hands-On Machine Learning with Scikit-Learn and TensorFlow </a>\n",
    "- <a src='https://fr.coursera.org/learn/machine-learning?action=enroll&authType=google'> Andrew Ng Machine learning course</a>\n",
    "- <a src='https://machinelearnia.com/machine-learning/'>MachineLearnia</a>\n",
    "- <a src='https://scikit-learn.org/stable/modules/classes.html#module-sklearn.preprocessing'>Sklearn Preprocessing</a>\n",
    "- <a src='https://machinelearningmastery.com/linear-regression-for-machine-learning/'>Machine Learning Mastery: Linear Regression for Machine Learning</a>\n",
    "- <a src='https://medium.com/analytics-vidhya/writing-math-equations-in-jupyter-notebook-a-naive-introduction-a5ce87b9a214'>Writting math equations </a>\n",
    "- <a src='https://towardsdatascience.com/k-nearest-neighbors-94395f445221'> towardsdatascience KNN </a>\n",
    "- <a src='https://towardsdatascience.com/understanding-random-forest-58381e0602d2'> towardsdatascience Random Forest </a>\n"
   ]
  }
 ],
 "metadata": {
  "accelerator": "TPU",
  "colab": {
   "collapsed_sections": [
    "Nb_Xm69f6NEW",
    "wp0O6mJR6NEx",
    "4Qklh9sZ6NGx",
    "g0nN7hhZ6NHK",
    "lWzqRFBY6NHK",
    "LoQfYi_I6NHL"
   ],
   "name": "Boston_Housing_Price_2-Copy1.ipynb",
   "provenance": [],
   "toc_visible": true
  },
  "kernelspec": {
   "display_name": "Python 3",
   "language": "python",
   "name": "python3"
  },
  "language_info": {
   "codemirror_mode": {
    "name": "ipython",
    "version": 3
   },
   "file_extension": ".py",
   "mimetype": "text/x-python",
   "name": "python",
   "nbconvert_exporter": "python",
   "pygments_lexer": "ipython3",
   "version": "3.8.3"
  }
 },
 "nbformat": 4,
 "nbformat_minor": 1
}
